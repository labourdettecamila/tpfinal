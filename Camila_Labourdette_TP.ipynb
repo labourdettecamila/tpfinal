{
  "nbformat": 4,
  "nbformat_minor": 0,
  "metadata": {
    "colab": {
      "provenance": []
    },
    "kernelspec": {
      "name": "python3",
      "display_name": "Python 3"
    },
    "language_info": {
      "name": "python"
    }
  },
  "cells": [
    {
      "cell_type": "markdown",
      "source": [
        "**CONTEXTO**\n",
        "\n",
        "---\n",
        "\n"
      ],
      "metadata": {
        "id": "zyRliKCei4QD"
      }
    },
    {
      "cell_type": "markdown",
      "source": [
        "KALBOARD360 es un learning management system (LMS) diseñado para facilitar el trabajo asincrónico de las escuelas. A través de este sistema, los profesores pueden tomar asistencia, distribuir exámenes y hojas de trabajo, crear debates y más.\n",
        "\n",
        "El dataset utilizado a continuación fue obtenido de Kaggle y recoge información sobre estudiantes de dos semestres registrados en dicha plataforma. Se recopilan 245 estudiantes durante el primer semestre y 235 durante el segundo.\n",
        "\n",
        "\n",
        "\n",
        "La información recolectada tiene que ver con el proceso del alumno durante el ciclo. Específicamente, contiene los siguientes datos:\n",
        "\n",
        "\n",
        "*   Gender: género\n",
        "*   Nationality: nacionalidad\n",
        "*   Place of birth: lugar de nacimiento\n",
        "*   Educational stage: etapa escolar \n",
        "\n",
        "    - Lower level\n",
        "    - Middle school\n",
        "    - High school\n",
        "*   Grade Level: grado\n",
        "*   Section ID: comisión\n",
        "*   Topic: materia que cursa\n",
        "*   Semester: semestre en el que fue obtenido su registro (first/second)\n",
        "*   Parent responsible for student: padre encargado del seguimiento académico (father/mother) \n",
        "*   Raised hand: cantidad de veces que el alumno levantó la mano\n",
        "*   Visited resources: cantidad de veces que el alumno visitó el contenido \n",
        "*   Viewing announcements: cantidad de veces que el alumno revisó los avisos\n",
        "*   Discussion groups: cantidad de veces que el alumno participó en discusiones\n",
        "*   Parent answering survey: (yes/no) si el padre responsable respondió la encuesta de satisfacción prevista por la escuela\n",
        "*   Parent school satisfaction: (good/bad) valuación de la escuela por parte del padre.\n",
        "*   Student absence days: días de ausencia\n",
        "*   Class: clasificación de nivel según su nota\n",
        "    - Low level (entre 0 y 69)\n",
        "    - Middle level (entre 70 y 89)\n",
        "    - High level (entre 90 y 100)\n",
        "\n",
        "Mi objetivo final es hacer un modelo que prediga el nivel que alcanzaría un alumno dados sus atributos. \n",
        "\n",
        "Pienso que esta información serviría a los profesores y directivos de las escuelas para personalizar más la enseñanza y potenciar al máximo las capacidades de los alumnos. Si un alumno va camino a obtener un bajo rendimiento, entonces reforzarle extra. O si uno es un 100, entonces darle opciones desafiantes para mantenerlo motivado.\n",
        "\n",
        "Un docente suele intuir eso según el compromiso que va observando, pero no vendría mal un método más preciso y basado en datos. \n",
        "\n",
        "El modelo sería una regresión logística porque es una clasificación. \n",
        "\n",
        "Sería \"Class\" mi variable target y consideraría como variables x todas las demás menos grade y classroom (me quedo con stage como más genérico)\n",
        "\n",
        "Me interesa comprobar, en primer lugar, lo obvio: que si alguien no está activo en el curso su rendimiento será bajo. En un futuro también me interesan algunas comparaciones. Por ejemplo, ¿cambia el rendimiento entre dos alummnos que tienen todas las mismas características pero tienen distinta nacionalidad? ¿cambia si quien lo ayuda es la madre o el padre? ¿es un factor determinante el género?"
      ],
      "metadata": {
        "id": "YEIMjoGkG-ea"
      }
    },
    {
      "cell_type": "markdown",
      "source": [
        "**ÍNDICE**\n",
        "\n",
        "\n",
        "---\n",
        "\n",
        "\n",
        "\n",
        "1.   Carga de librerías\n",
        "2.   Carga del dataset\n",
        "3.   Shape\n",
        "4.   Duplicados\n",
        "5.   Faltantes\n",
        "6.   Exploración\n",
        "7.   Outliers y escalado\n",
        "8.   Encoding\n",
        "9.   Modelo y evaluación\n",
        "\n"
      ],
      "metadata": {
        "id": "_5Sq_Skt4y6T"
      }
    },
    {
      "cell_type": "markdown",
      "source": [
        "**1) CARGA DE LIBRERÍAS**"
      ],
      "metadata": {
        "id": "uXDtoogeHlXT"
      }
    },
    {
      "cell_type": "code",
      "execution_count": 1,
      "metadata": {
        "id": "ZJCmJHbbKgu0"
      },
      "outputs": [],
      "source": [
        "import pandas as pd\n",
        "import numpy as no\n",
        "import seaborn as sns\n",
        "import matplotlib.pyplot as plt"
      ]
    },
    {
      "cell_type": "markdown",
      "source": [
        "**2) CARGA DEL DATASET**"
      ],
      "metadata": {
        "id": "qtNLEWK-44OU"
      }
    },
    {
      "cell_type": "code",
      "source": [
        "students = pd.read_csv(\"/content/drive/MyDrive/xAPI-Edu-Data.csv\")"
      ],
      "metadata": {
        "id": "-3GqdFJVKsEe"
      },
      "execution_count": 2,
      "outputs": []
    },
    {
      "cell_type": "code",
      "source": [
        "students.head()"
      ],
      "metadata": {
        "colab": {
          "base_uri": "https://localhost:8080/",
          "height": 270
        },
        "id": "LisFsZLWMrIx",
        "outputId": "15cd6d60-a5e5-4753-a7bc-12d826fa0afb"
      },
      "execution_count": 3,
      "outputs": [
        {
          "output_type": "execute_result",
          "data": {
            "text/plain": [
              "  gender NationalITy PlaceofBirth     StageID GradeID SectionID Topic  \\\n",
              "0      M          KW       KuwaIT  lowerlevel    G-04         A    IT   \n",
              "1      M          KW       KuwaIT  lowerlevel    G-04         A    IT   \n",
              "2      M          KW       KuwaIT  lowerlevel    G-04         A    IT   \n",
              "3      M          KW       KuwaIT  lowerlevel    G-04         A    IT   \n",
              "4      M          KW       KuwaIT  lowerlevel    G-04         A    IT   \n",
              "\n",
              "  Semester Relation  raisedhands  VisITedResources  AnnouncementsView  \\\n",
              "0        F   Father           15                16                  2   \n",
              "1        F   Father           20                20                  3   \n",
              "2        F   Father           10                 7                  0   \n",
              "3        F   Father           30                25                  5   \n",
              "4        F   Father           40                50                 12   \n",
              "\n",
              "   Discussion ParentAnsweringSurvey ParentschoolSatisfaction  \\\n",
              "0          20                   Yes                     Good   \n",
              "1          25                   Yes                     Good   \n",
              "2          30                    No                      Bad   \n",
              "3          35                    No                      Bad   \n",
              "4          50                    No                      Bad   \n",
              "\n",
              "  StudentAbsenceDays Class  \n",
              "0            Under-7     M  \n",
              "1            Under-7     M  \n",
              "2            Above-7     L  \n",
              "3            Above-7     L  \n",
              "4            Above-7     M  "
            ],
            "text/html": [
              "\n",
              "  <div id=\"df-c4f24551-f540-46e2-98a5-f8fea47759a3\">\n",
              "    <div class=\"colab-df-container\">\n",
              "      <div>\n",
              "<style scoped>\n",
              "    .dataframe tbody tr th:only-of-type {\n",
              "        vertical-align: middle;\n",
              "    }\n",
              "\n",
              "    .dataframe tbody tr th {\n",
              "        vertical-align: top;\n",
              "    }\n",
              "\n",
              "    .dataframe thead th {\n",
              "        text-align: right;\n",
              "    }\n",
              "</style>\n",
              "<table border=\"1\" class=\"dataframe\">\n",
              "  <thead>\n",
              "    <tr style=\"text-align: right;\">\n",
              "      <th></th>\n",
              "      <th>gender</th>\n",
              "      <th>NationalITy</th>\n",
              "      <th>PlaceofBirth</th>\n",
              "      <th>StageID</th>\n",
              "      <th>GradeID</th>\n",
              "      <th>SectionID</th>\n",
              "      <th>Topic</th>\n",
              "      <th>Semester</th>\n",
              "      <th>Relation</th>\n",
              "      <th>raisedhands</th>\n",
              "      <th>VisITedResources</th>\n",
              "      <th>AnnouncementsView</th>\n",
              "      <th>Discussion</th>\n",
              "      <th>ParentAnsweringSurvey</th>\n",
              "      <th>ParentschoolSatisfaction</th>\n",
              "      <th>StudentAbsenceDays</th>\n",
              "      <th>Class</th>\n",
              "    </tr>\n",
              "  </thead>\n",
              "  <tbody>\n",
              "    <tr>\n",
              "      <th>0</th>\n",
              "      <td>M</td>\n",
              "      <td>KW</td>\n",
              "      <td>KuwaIT</td>\n",
              "      <td>lowerlevel</td>\n",
              "      <td>G-04</td>\n",
              "      <td>A</td>\n",
              "      <td>IT</td>\n",
              "      <td>F</td>\n",
              "      <td>Father</td>\n",
              "      <td>15</td>\n",
              "      <td>16</td>\n",
              "      <td>2</td>\n",
              "      <td>20</td>\n",
              "      <td>Yes</td>\n",
              "      <td>Good</td>\n",
              "      <td>Under-7</td>\n",
              "      <td>M</td>\n",
              "    </tr>\n",
              "    <tr>\n",
              "      <th>1</th>\n",
              "      <td>M</td>\n",
              "      <td>KW</td>\n",
              "      <td>KuwaIT</td>\n",
              "      <td>lowerlevel</td>\n",
              "      <td>G-04</td>\n",
              "      <td>A</td>\n",
              "      <td>IT</td>\n",
              "      <td>F</td>\n",
              "      <td>Father</td>\n",
              "      <td>20</td>\n",
              "      <td>20</td>\n",
              "      <td>3</td>\n",
              "      <td>25</td>\n",
              "      <td>Yes</td>\n",
              "      <td>Good</td>\n",
              "      <td>Under-7</td>\n",
              "      <td>M</td>\n",
              "    </tr>\n",
              "    <tr>\n",
              "      <th>2</th>\n",
              "      <td>M</td>\n",
              "      <td>KW</td>\n",
              "      <td>KuwaIT</td>\n",
              "      <td>lowerlevel</td>\n",
              "      <td>G-04</td>\n",
              "      <td>A</td>\n",
              "      <td>IT</td>\n",
              "      <td>F</td>\n",
              "      <td>Father</td>\n",
              "      <td>10</td>\n",
              "      <td>7</td>\n",
              "      <td>0</td>\n",
              "      <td>30</td>\n",
              "      <td>No</td>\n",
              "      <td>Bad</td>\n",
              "      <td>Above-7</td>\n",
              "      <td>L</td>\n",
              "    </tr>\n",
              "    <tr>\n",
              "      <th>3</th>\n",
              "      <td>M</td>\n",
              "      <td>KW</td>\n",
              "      <td>KuwaIT</td>\n",
              "      <td>lowerlevel</td>\n",
              "      <td>G-04</td>\n",
              "      <td>A</td>\n",
              "      <td>IT</td>\n",
              "      <td>F</td>\n",
              "      <td>Father</td>\n",
              "      <td>30</td>\n",
              "      <td>25</td>\n",
              "      <td>5</td>\n",
              "      <td>35</td>\n",
              "      <td>No</td>\n",
              "      <td>Bad</td>\n",
              "      <td>Above-7</td>\n",
              "      <td>L</td>\n",
              "    </tr>\n",
              "    <tr>\n",
              "      <th>4</th>\n",
              "      <td>M</td>\n",
              "      <td>KW</td>\n",
              "      <td>KuwaIT</td>\n",
              "      <td>lowerlevel</td>\n",
              "      <td>G-04</td>\n",
              "      <td>A</td>\n",
              "      <td>IT</td>\n",
              "      <td>F</td>\n",
              "      <td>Father</td>\n",
              "      <td>40</td>\n",
              "      <td>50</td>\n",
              "      <td>12</td>\n",
              "      <td>50</td>\n",
              "      <td>No</td>\n",
              "      <td>Bad</td>\n",
              "      <td>Above-7</td>\n",
              "      <td>M</td>\n",
              "    </tr>\n",
              "  </tbody>\n",
              "</table>\n",
              "</div>\n",
              "      <button class=\"colab-df-convert\" onclick=\"convertToInteractive('df-c4f24551-f540-46e2-98a5-f8fea47759a3')\"\n",
              "              title=\"Convert this dataframe to an interactive table.\"\n",
              "              style=\"display:none;\">\n",
              "        \n",
              "  <svg xmlns=\"http://www.w3.org/2000/svg\" height=\"24px\"viewBox=\"0 0 24 24\"\n",
              "       width=\"24px\">\n",
              "    <path d=\"M0 0h24v24H0V0z\" fill=\"none\"/>\n",
              "    <path d=\"M18.56 5.44l.94 2.06.94-2.06 2.06-.94-2.06-.94-.94-2.06-.94 2.06-2.06.94zm-11 1L8.5 8.5l.94-2.06 2.06-.94-2.06-.94L8.5 2.5l-.94 2.06-2.06.94zm10 10l.94 2.06.94-2.06 2.06-.94-2.06-.94-.94-2.06-.94 2.06-2.06.94z\"/><path d=\"M17.41 7.96l-1.37-1.37c-.4-.4-.92-.59-1.43-.59-.52 0-1.04.2-1.43.59L10.3 9.45l-7.72 7.72c-.78.78-.78 2.05 0 2.83L4 21.41c.39.39.9.59 1.41.59.51 0 1.02-.2 1.41-.59l7.78-7.78 2.81-2.81c.8-.78.8-2.07 0-2.86zM5.41 20L4 18.59l7.72-7.72 1.47 1.35L5.41 20z\"/>\n",
              "  </svg>\n",
              "      </button>\n",
              "      \n",
              "  <style>\n",
              "    .colab-df-container {\n",
              "      display:flex;\n",
              "      flex-wrap:wrap;\n",
              "      gap: 12px;\n",
              "    }\n",
              "\n",
              "    .colab-df-convert {\n",
              "      background-color: #E8F0FE;\n",
              "      border: none;\n",
              "      border-radius: 50%;\n",
              "      cursor: pointer;\n",
              "      display: none;\n",
              "      fill: #1967D2;\n",
              "      height: 32px;\n",
              "      padding: 0 0 0 0;\n",
              "      width: 32px;\n",
              "    }\n",
              "\n",
              "    .colab-df-convert:hover {\n",
              "      background-color: #E2EBFA;\n",
              "      box-shadow: 0px 1px 2px rgba(60, 64, 67, 0.3), 0px 1px 3px 1px rgba(60, 64, 67, 0.15);\n",
              "      fill: #174EA6;\n",
              "    }\n",
              "\n",
              "    [theme=dark] .colab-df-convert {\n",
              "      background-color: #3B4455;\n",
              "      fill: #D2E3FC;\n",
              "    }\n",
              "\n",
              "    [theme=dark] .colab-df-convert:hover {\n",
              "      background-color: #434B5C;\n",
              "      box-shadow: 0px 1px 3px 1px rgba(0, 0, 0, 0.15);\n",
              "      filter: drop-shadow(0px 1px 2px rgba(0, 0, 0, 0.3));\n",
              "      fill: #FFFFFF;\n",
              "    }\n",
              "  </style>\n",
              "\n",
              "      <script>\n",
              "        const buttonEl =\n",
              "          document.querySelector('#df-c4f24551-f540-46e2-98a5-f8fea47759a3 button.colab-df-convert');\n",
              "        buttonEl.style.display =\n",
              "          google.colab.kernel.accessAllowed ? 'block' : 'none';\n",
              "\n",
              "        async function convertToInteractive(key) {\n",
              "          const element = document.querySelector('#df-c4f24551-f540-46e2-98a5-f8fea47759a3');\n",
              "          const dataTable =\n",
              "            await google.colab.kernel.invokeFunction('convertToInteractive',\n",
              "                                                     [key], {});\n",
              "          if (!dataTable) return;\n",
              "\n",
              "          const docLinkHtml = 'Like what you see? Visit the ' +\n",
              "            '<a target=\"_blank\" href=https://colab.research.google.com/notebooks/data_table.ipynb>data table notebook</a>'\n",
              "            + ' to learn more about interactive tables.';\n",
              "          element.innerHTML = '';\n",
              "          dataTable['output_type'] = 'display_data';\n",
              "          await google.colab.output.renderOutput(dataTable, element);\n",
              "          const docLink = document.createElement('div');\n",
              "          docLink.innerHTML = docLinkHtml;\n",
              "          element.appendChild(docLink);\n",
              "        }\n",
              "      </script>\n",
              "    </div>\n",
              "  </div>\n",
              "  "
            ]
          },
          "metadata": {},
          "execution_count": 3
        }
      ]
    },
    {
      "cell_type": "markdown",
      "source": [
        "**3) SHAPE**"
      ],
      "metadata": {
        "id": "RVAaKTbiluM6"
      }
    },
    {
      "cell_type": "code",
      "source": [
        "print(f\"En el dataset hay {students.shape[0]} filas y {students.shape[1]} columnas.\")"
      ],
      "metadata": {
        "colab": {
          "base_uri": "https://localhost:8080/"
        },
        "id": "_aum83135Jq8",
        "outputId": "ad648277-932b-4101-eb64-f07ca5221d6d"
      },
      "execution_count": 4,
      "outputs": [
        {
          "output_type": "stream",
          "name": "stdout",
          "text": [
            "En el dataset hay 480 filas y 17 columnas.\n"
          ]
        }
      ]
    },
    {
      "cell_type": "code",
      "source": [
        "print(f\"Los tipos de datos por columnas son: \\n {students.dtypes}\")"
      ],
      "metadata": {
        "colab": {
          "base_uri": "https://localhost:8080/"
        },
        "id": "OVCQvR3zoszK",
        "outputId": "853b8446-5632-4c8d-c0f1-af6886263566"
      },
      "execution_count": 5,
      "outputs": [
        {
          "output_type": "stream",
          "name": "stdout",
          "text": [
            "Los tipos de datos por columnas son: \n",
            " gender                      object\n",
            "NationalITy                 object\n",
            "PlaceofBirth                object\n",
            "StageID                     object\n",
            "GradeID                     object\n",
            "SectionID                   object\n",
            "Topic                       object\n",
            "Semester                    object\n",
            "Relation                    object\n",
            "raisedhands                  int64\n",
            "VisITedResources             int64\n",
            "AnnouncementsView            int64\n",
            "Discussion                   int64\n",
            "ParentAnsweringSurvey       object\n",
            "ParentschoolSatisfaction    object\n",
            "StudentAbsenceDays          object\n",
            "Class                       object\n",
            "dtype: object\n"
          ]
        }
      ]
    },
    {
      "cell_type": "markdown",
      "source": [
        "\n",
        "\n",
        "```\n",
        "No hay ningún cambio que hacer con respecto al tipo de datos\n",
        "```\n",
        "\n"
      ],
      "metadata": {
        "id": "P75Z5CT5pK38"
      }
    },
    {
      "cell_type": "markdown",
      "source": [
        "` * Renombro las columnas`\n",
        "\n"
      ],
      "metadata": {
        "id": "9ieF5IMQM9Ng"
      }
    },
    {
      "cell_type": "code",
      "source": [
        "students.columns = ['Gender', 'Nationality', 'Place_of_Birth', 'Stage', 'Grade', 'Classroom', 'Topic', 'Semester', 'Responsible', \n",
        "                    'Raised_Hands', 'Visited_Resources', 'Checked_Announcements', 'Participation', 'Parent_Answering_Survey', 'Parent_School_Satisfaction', \n",
        "                    'Absence_Days', 'Reached_Level']"
      ],
      "metadata": {
        "id": "ep1cgodX0gNO"
      },
      "execution_count": 6,
      "outputs": []
    },
    {
      "cell_type": "markdown",
      "source": [
        "`* Elimino la columna Place_of_Birth porque me resulta suficiente con la Nationality`"
      ],
      "metadata": {
        "id": "JVJLhoZSMNNn"
      }
    },
    {
      "cell_type": "code",
      "source": [
        "students.drop(columns = [\"Place_of_Birth\"], inplace = True)"
      ],
      "metadata": {
        "id": "3isr8uj63Ybg"
      },
      "execution_count": 7,
      "outputs": []
    },
    {
      "cell_type": "markdown",
      "source": [
        "`* Reemplazo los valores de la columna Reached_Level para que sea más claro`"
      ],
      "metadata": {
        "id": "U8cWkS2eNSSV"
      }
    },
    {
      "cell_type": "code",
      "source": [
        "students['Reached_Level'] = students['Reached_Level'].map({'L':'Low', 'M':'Middle','H':'High'})"
      ],
      "metadata": {
        "id": "jAite7bH4F89"
      },
      "execution_count": 8,
      "outputs": []
    },
    {
      "cell_type": "code",
      "source": [
        "students.head()"
      ],
      "metadata": {
        "colab": {
          "base_uri": "https://localhost:8080/",
          "height": 270
        },
        "id": "jLRHYtFB0u_7",
        "outputId": "02061f8c-31c7-484e-83fa-0819212fc242"
      },
      "execution_count": 9,
      "outputs": [
        {
          "output_type": "execute_result",
          "data": {
            "text/plain": [
              "  Gender Nationality       Stage Grade Classroom Topic Semester Responsible  \\\n",
              "0      M          KW  lowerlevel  G-04         A    IT        F      Father   \n",
              "1      M          KW  lowerlevel  G-04         A    IT        F      Father   \n",
              "2      M          KW  lowerlevel  G-04         A    IT        F      Father   \n",
              "3      M          KW  lowerlevel  G-04         A    IT        F      Father   \n",
              "4      M          KW  lowerlevel  G-04         A    IT        F      Father   \n",
              "\n",
              "   Raised_Hands  Visited_Resources  Checked_Announcements  Participation  \\\n",
              "0            15                 16                      2             20   \n",
              "1            20                 20                      3             25   \n",
              "2            10                  7                      0             30   \n",
              "3            30                 25                      5             35   \n",
              "4            40                 50                     12             50   \n",
              "\n",
              "  Parent_Answering_Survey Parent_School_Satisfaction Absence_Days  \\\n",
              "0                     Yes                       Good      Under-7   \n",
              "1                     Yes                       Good      Under-7   \n",
              "2                      No                        Bad      Above-7   \n",
              "3                      No                        Bad      Above-7   \n",
              "4                      No                        Bad      Above-7   \n",
              "\n",
              "  Reached_Level  \n",
              "0        Middle  \n",
              "1        Middle  \n",
              "2           Low  \n",
              "3           Low  \n",
              "4        Middle  "
            ],
            "text/html": [
              "\n",
              "  <div id=\"df-a9597c3c-6e53-438c-8d66-6e4022fa7dcb\">\n",
              "    <div class=\"colab-df-container\">\n",
              "      <div>\n",
              "<style scoped>\n",
              "    .dataframe tbody tr th:only-of-type {\n",
              "        vertical-align: middle;\n",
              "    }\n",
              "\n",
              "    .dataframe tbody tr th {\n",
              "        vertical-align: top;\n",
              "    }\n",
              "\n",
              "    .dataframe thead th {\n",
              "        text-align: right;\n",
              "    }\n",
              "</style>\n",
              "<table border=\"1\" class=\"dataframe\">\n",
              "  <thead>\n",
              "    <tr style=\"text-align: right;\">\n",
              "      <th></th>\n",
              "      <th>Gender</th>\n",
              "      <th>Nationality</th>\n",
              "      <th>Stage</th>\n",
              "      <th>Grade</th>\n",
              "      <th>Classroom</th>\n",
              "      <th>Topic</th>\n",
              "      <th>Semester</th>\n",
              "      <th>Responsible</th>\n",
              "      <th>Raised_Hands</th>\n",
              "      <th>Visited_Resources</th>\n",
              "      <th>Checked_Announcements</th>\n",
              "      <th>Participation</th>\n",
              "      <th>Parent_Answering_Survey</th>\n",
              "      <th>Parent_School_Satisfaction</th>\n",
              "      <th>Absence_Days</th>\n",
              "      <th>Reached_Level</th>\n",
              "    </tr>\n",
              "  </thead>\n",
              "  <tbody>\n",
              "    <tr>\n",
              "      <th>0</th>\n",
              "      <td>M</td>\n",
              "      <td>KW</td>\n",
              "      <td>lowerlevel</td>\n",
              "      <td>G-04</td>\n",
              "      <td>A</td>\n",
              "      <td>IT</td>\n",
              "      <td>F</td>\n",
              "      <td>Father</td>\n",
              "      <td>15</td>\n",
              "      <td>16</td>\n",
              "      <td>2</td>\n",
              "      <td>20</td>\n",
              "      <td>Yes</td>\n",
              "      <td>Good</td>\n",
              "      <td>Under-7</td>\n",
              "      <td>Middle</td>\n",
              "    </tr>\n",
              "    <tr>\n",
              "      <th>1</th>\n",
              "      <td>M</td>\n",
              "      <td>KW</td>\n",
              "      <td>lowerlevel</td>\n",
              "      <td>G-04</td>\n",
              "      <td>A</td>\n",
              "      <td>IT</td>\n",
              "      <td>F</td>\n",
              "      <td>Father</td>\n",
              "      <td>20</td>\n",
              "      <td>20</td>\n",
              "      <td>3</td>\n",
              "      <td>25</td>\n",
              "      <td>Yes</td>\n",
              "      <td>Good</td>\n",
              "      <td>Under-7</td>\n",
              "      <td>Middle</td>\n",
              "    </tr>\n",
              "    <tr>\n",
              "      <th>2</th>\n",
              "      <td>M</td>\n",
              "      <td>KW</td>\n",
              "      <td>lowerlevel</td>\n",
              "      <td>G-04</td>\n",
              "      <td>A</td>\n",
              "      <td>IT</td>\n",
              "      <td>F</td>\n",
              "      <td>Father</td>\n",
              "      <td>10</td>\n",
              "      <td>7</td>\n",
              "      <td>0</td>\n",
              "      <td>30</td>\n",
              "      <td>No</td>\n",
              "      <td>Bad</td>\n",
              "      <td>Above-7</td>\n",
              "      <td>Low</td>\n",
              "    </tr>\n",
              "    <tr>\n",
              "      <th>3</th>\n",
              "      <td>M</td>\n",
              "      <td>KW</td>\n",
              "      <td>lowerlevel</td>\n",
              "      <td>G-04</td>\n",
              "      <td>A</td>\n",
              "      <td>IT</td>\n",
              "      <td>F</td>\n",
              "      <td>Father</td>\n",
              "      <td>30</td>\n",
              "      <td>25</td>\n",
              "      <td>5</td>\n",
              "      <td>35</td>\n",
              "      <td>No</td>\n",
              "      <td>Bad</td>\n",
              "      <td>Above-7</td>\n",
              "      <td>Low</td>\n",
              "    </tr>\n",
              "    <tr>\n",
              "      <th>4</th>\n",
              "      <td>M</td>\n",
              "      <td>KW</td>\n",
              "      <td>lowerlevel</td>\n",
              "      <td>G-04</td>\n",
              "      <td>A</td>\n",
              "      <td>IT</td>\n",
              "      <td>F</td>\n",
              "      <td>Father</td>\n",
              "      <td>40</td>\n",
              "      <td>50</td>\n",
              "      <td>12</td>\n",
              "      <td>50</td>\n",
              "      <td>No</td>\n",
              "      <td>Bad</td>\n",
              "      <td>Above-7</td>\n",
              "      <td>Middle</td>\n",
              "    </tr>\n",
              "  </tbody>\n",
              "</table>\n",
              "</div>\n",
              "      <button class=\"colab-df-convert\" onclick=\"convertToInteractive('df-a9597c3c-6e53-438c-8d66-6e4022fa7dcb')\"\n",
              "              title=\"Convert this dataframe to an interactive table.\"\n",
              "              style=\"display:none;\">\n",
              "        \n",
              "  <svg xmlns=\"http://www.w3.org/2000/svg\" height=\"24px\"viewBox=\"0 0 24 24\"\n",
              "       width=\"24px\">\n",
              "    <path d=\"M0 0h24v24H0V0z\" fill=\"none\"/>\n",
              "    <path d=\"M18.56 5.44l.94 2.06.94-2.06 2.06-.94-2.06-.94-.94-2.06-.94 2.06-2.06.94zm-11 1L8.5 8.5l.94-2.06 2.06-.94-2.06-.94L8.5 2.5l-.94 2.06-2.06.94zm10 10l.94 2.06.94-2.06 2.06-.94-2.06-.94-.94-2.06-.94 2.06-2.06.94z\"/><path d=\"M17.41 7.96l-1.37-1.37c-.4-.4-.92-.59-1.43-.59-.52 0-1.04.2-1.43.59L10.3 9.45l-7.72 7.72c-.78.78-.78 2.05 0 2.83L4 21.41c.39.39.9.59 1.41.59.51 0 1.02-.2 1.41-.59l7.78-7.78 2.81-2.81c.8-.78.8-2.07 0-2.86zM5.41 20L4 18.59l7.72-7.72 1.47 1.35L5.41 20z\"/>\n",
              "  </svg>\n",
              "      </button>\n",
              "      \n",
              "  <style>\n",
              "    .colab-df-container {\n",
              "      display:flex;\n",
              "      flex-wrap:wrap;\n",
              "      gap: 12px;\n",
              "    }\n",
              "\n",
              "    .colab-df-convert {\n",
              "      background-color: #E8F0FE;\n",
              "      border: none;\n",
              "      border-radius: 50%;\n",
              "      cursor: pointer;\n",
              "      display: none;\n",
              "      fill: #1967D2;\n",
              "      height: 32px;\n",
              "      padding: 0 0 0 0;\n",
              "      width: 32px;\n",
              "    }\n",
              "\n",
              "    .colab-df-convert:hover {\n",
              "      background-color: #E2EBFA;\n",
              "      box-shadow: 0px 1px 2px rgba(60, 64, 67, 0.3), 0px 1px 3px 1px rgba(60, 64, 67, 0.15);\n",
              "      fill: #174EA6;\n",
              "    }\n",
              "\n",
              "    [theme=dark] .colab-df-convert {\n",
              "      background-color: #3B4455;\n",
              "      fill: #D2E3FC;\n",
              "    }\n",
              "\n",
              "    [theme=dark] .colab-df-convert:hover {\n",
              "      background-color: #434B5C;\n",
              "      box-shadow: 0px 1px 3px 1px rgba(0, 0, 0, 0.15);\n",
              "      filter: drop-shadow(0px 1px 2px rgba(0, 0, 0, 0.3));\n",
              "      fill: #FFFFFF;\n",
              "    }\n",
              "  </style>\n",
              "\n",
              "      <script>\n",
              "        const buttonEl =\n",
              "          document.querySelector('#df-a9597c3c-6e53-438c-8d66-6e4022fa7dcb button.colab-df-convert');\n",
              "        buttonEl.style.display =\n",
              "          google.colab.kernel.accessAllowed ? 'block' : 'none';\n",
              "\n",
              "        async function convertToInteractive(key) {\n",
              "          const element = document.querySelector('#df-a9597c3c-6e53-438c-8d66-6e4022fa7dcb');\n",
              "          const dataTable =\n",
              "            await google.colab.kernel.invokeFunction('convertToInteractive',\n",
              "                                                     [key], {});\n",
              "          if (!dataTable) return;\n",
              "\n",
              "          const docLinkHtml = 'Like what you see? Visit the ' +\n",
              "            '<a target=\"_blank\" href=https://colab.research.google.com/notebooks/data_table.ipynb>data table notebook</a>'\n",
              "            + ' to learn more about interactive tables.';\n",
              "          element.innerHTML = '';\n",
              "          dataTable['output_type'] = 'display_data';\n",
              "          await google.colab.output.renderOutput(dataTable, element);\n",
              "          const docLink = document.createElement('div');\n",
              "          docLink.innerHTML = docLinkHtml;\n",
              "          element.appendChild(docLink);\n",
              "        }\n",
              "      </script>\n",
              "    </div>\n",
              "  </div>\n",
              "  "
            ]
          },
          "metadata": {},
          "execution_count": 9
        }
      ]
    },
    {
      "cell_type": "markdown",
      "source": [
        "**4) DUPLICADOS**"
      ],
      "metadata": {
        "id": "HPlaq97Fl8lJ"
      }
    },
    {
      "cell_type": "code",
      "source": [
        "print(f\"Tenemos {students.duplicated().sum()} filas duplicadas\")"
      ],
      "metadata": {
        "colab": {
          "base_uri": "https://localhost:8080/"
        },
        "id": "7Au_tFX4l_Oz",
        "outputId": "512278f8-41ad-4fd9-dedd-553512dd6b12"
      },
      "execution_count": 10,
      "outputs": [
        {
          "output_type": "stream",
          "name": "stdout",
          "text": [
            "Tenemos 2 filas duplicadas\n"
          ]
        }
      ]
    },
    {
      "cell_type": "code",
      "source": [
        "students = students.drop_duplicates()\n",
        "print(f\"Ahora tenemos {students.duplicated().sum()} filas duplicadas\")\n"
      ],
      "metadata": {
        "colab": {
          "base_uri": "https://localhost:8080/"
        },
        "id": "gIqpDtx3mF6A",
        "outputId": "20f7ee21-9642-40d8-84b3-0c89c3bed288"
      },
      "execution_count": 11,
      "outputs": [
        {
          "output_type": "stream",
          "name": "stdout",
          "text": [
            "Ahora tenemos 0 filas duplicadas\n"
          ]
        }
      ]
    },
    {
      "cell_type": "markdown",
      "source": [
        "**5) ANÁLISIS DE FALTANTES**"
      ],
      "metadata": {
        "id": "WZLdK9KH6qla"
      }
    },
    {
      "cell_type": "markdown",
      "source": [
        "\n",
        "\n",
        "```\n",
        "Faltantes por columna:\n",
        "```\n",
        "\n"
      ],
      "metadata": {
        "id": "hTZcP0OBlSKy"
      }
    },
    {
      "cell_type": "code",
      "source": [
        "students.isnull().sum()"
      ],
      "metadata": {
        "colab": {
          "base_uri": "https://localhost:8080/"
        },
        "id": "bLn2c1OFqqlH",
        "outputId": "7115fa52-d324-411b-9f8d-4ef1a1a7937c"
      },
      "execution_count": 12,
      "outputs": [
        {
          "output_type": "execute_result",
          "data": {
            "text/plain": [
              "Gender                        0\n",
              "Nationality                   0\n",
              "Stage                         0\n",
              "Grade                         0\n",
              "Classroom                     0\n",
              "Topic                         0\n",
              "Semester                      0\n",
              "Responsible                   0\n",
              "Raised_Hands                  0\n",
              "Visited_Resources             0\n",
              "Checked_Announcements         0\n",
              "Participation                 0\n",
              "Parent_Answering_Survey       0\n",
              "Parent_School_Satisfaction    0\n",
              "Absence_Days                  0\n",
              "Reached_Level                 0\n",
              "dtype: int64"
            ]
          },
          "metadata": {},
          "execution_count": 12
        }
      ]
    },
    {
      "cell_type": "markdown",
      "source": [
        "\n",
        "\n",
        "```\n",
        "Como no hay faltantes no hay ninguna imputación que hacer.\n",
        "```\n",
        "\n"
      ],
      "metadata": {
        "id": "aK7WVc2klCzV"
      }
    },
    {
      "cell_type": "markdown",
      "source": [
        "**6) EXPLORACIÓN**"
      ],
      "metadata": {
        "id": "dryAtX_4xILI"
      }
    },
    {
      "cell_type": "markdown",
      "source": [
        "**Género**"
      ],
      "metadata": {
        "id": "d5mOjs0x7Oy8"
      }
    },
    {
      "cell_type": "code",
      "source": [
        "proporciones_generos = students.Gender.value_counts(normalize=True)\n",
        "pie_generos = proporciones_generos.plot.pie(autopct='%1.0f%%', colors=[\"#477CA8\",\"#CB3335\"])\n",
        "pie_generos.set_title('Estudiantes por género')\n",
        "pie_generos"
      ],
      "metadata": {
        "colab": {
          "base_uri": "https://localhost:8080/",
          "height": 281
        },
        "id": "Jw0OqqO4zs9X",
        "outputId": "72561ca2-a60e-4d7d-a23d-7c7700be6927"
      },
      "execution_count": 13,
      "outputs": [
        {
          "output_type": "execute_result",
          "data": {
            "text/plain": [
              "<matplotlib.axes._subplots.AxesSubplot at 0x7f20083d7a00>"
            ]
          },
          "metadata": {},
          "execution_count": 13
        },
        {
          "output_type": "display_data",
          "data": {
            "text/plain": [
              "<Figure size 432x288 with 1 Axes>"
            ],
            "image/png": "[encoded data removed]"
          },
          "metadata": {}
        }
      ]
    },
    {
      "cell_type": "markdown",
      "source": [
        "\n",
        "\n",
        "```\n",
        "Hay más estudiantes hombres que mujeres\n",
        "```\n",
        "\n"
      ],
      "metadata": {
        "id": "XfMqqyKsANss"
      }
    },
    {
      "cell_type": "markdown",
      "source": [
        "**Nationality**"
      ],
      "metadata": {
        "id": "MFQgaham8VTq"
      }
    },
    {
      "cell_type": "code",
      "source": [
        "estudiantes_por_nacionalidad = students.Nationality.value_counts().sort_values()\n",
        "barras_nacionalidades = estudiantes_por_nacionalidad.plot.barh()\n",
        "barras_nacionalidades.set_title('Estudiantes por nacionalidad')\n",
        "\n",
        "\n"
      ],
      "metadata": {
        "colab": {
          "base_uri": "https://localhost:8080/",
          "height": 298
        },
        "id": "qu0OYcvDMbum",
        "outputId": "8dc7c9bf-bee6-48a0-f3ac-f59146fc9412"
      },
      "execution_count": 14,
      "outputs": [
        {
          "output_type": "execute_result",
          "data": {
            "text/plain": [
              "Text(0.5, 1.0, 'Estudiantes por nacionalidad')"
            ]
          },
          "metadata": {},
          "execution_count": 14
        },
        {
          "output_type": "display_data",
          "data": {
            "text/plain": [
              "<Figure size 432x288 with 1 Axes>"
            ],
            "image/png": "[encoded data removed]"
          },
          "metadata": {
            "needs_background": "light"
          }
        }
      ]
    },
    {
      "cell_type": "code",
      "source": [
        "students[students.Nationality == \"venzuela\"]"
      ],
      "metadata": {
        "colab": {
          "base_uri": "https://localhost:8080/",
          "height": 145
        },
        "id": "t2QnoldXWmNO",
        "outputId": "5c776a80-dc77-45f0-ae8b-352841a324b4"
      },
      "execution_count": 15,
      "outputs": [
        {
          "output_type": "execute_result",
          "data": {
            "text/plain": [
              "   Gender Nationality       Stage Grade Classroom Topic Semester Responsible  \\\n",
              "62      M    venzuela  HighSchool  G-10         A    IT        F         Mum   \n",
              "\n",
              "    Raised_Hands  Visited_Resources  Checked_Announcements  Participation  \\\n",
              "62            80                 90                     70             80   \n",
              "\n",
              "   Parent_Answering_Survey Parent_School_Satisfaction Absence_Days  \\\n",
              "62                     Yes                       Good      Under-7   \n",
              "\n",
              "   Reached_Level  \n",
              "62          High  "
            ],
            "text/html": [
              "\n",
              "  <div id=\"df-ba8d6a9b-cc7d-43c3-9e70-1e147896ef6e\">\n",
              "    <div class=\"colab-df-container\">\n",
              "      <div>\n",
              "<style scoped>\n",
              "    .dataframe tbody tr th:only-of-type {\n",
              "        vertical-align: middle;\n",
              "    }\n",
              "\n",
              "    .dataframe tbody tr th {\n",
              "        vertical-align: top;\n",
              "    }\n",
              "\n",
              "    .dataframe thead th {\n",
              "        text-align: right;\n",
              "    }\n",
              "</style>\n",
              "<table border=\"1\" class=\"dataframe\">\n",
              "  <thead>\n",
              "    <tr style=\"text-align: right;\">\n",
              "      <th></th>\n",
              "      <th>Gender</th>\n",
              "      <th>Nationality</th>\n",
              "      <th>Stage</th>\n",
              "      <th>Grade</th>\n",
              "      <th>Classroom</th>\n",
              "      <th>Topic</th>\n",
              "      <th>Semester</th>\n",
              "      <th>Responsible</th>\n",
              "      <th>Raised_Hands</th>\n",
              "      <th>Visited_Resources</th>\n",
              "      <th>Checked_Announcements</th>\n",
              "      <th>Participation</th>\n",
              "      <th>Parent_Answering_Survey</th>\n",
              "      <th>Parent_School_Satisfaction</th>\n",
              "      <th>Absence_Days</th>\n",
              "      <th>Reached_Level</th>\n",
              "    </tr>\n",
              "  </thead>\n",
              "  <tbody>\n",
              "    <tr>\n",
              "      <th>62</th>\n",
              "      <td>M</td>\n",
              "      <td>venzuela</td>\n",
              "      <td>HighSchool</td>\n",
              "      <td>G-10</td>\n",
              "      <td>A</td>\n",
              "      <td>IT</td>\n",
              "      <td>F</td>\n",
              "      <td>Mum</td>\n",
              "      <td>80</td>\n",
              "      <td>90</td>\n",
              "      <td>70</td>\n",
              "      <td>80</td>\n",
              "      <td>Yes</td>\n",
              "      <td>Good</td>\n",
              "      <td>Under-7</td>\n",
              "      <td>High</td>\n",
              "    </tr>\n",
              "  </tbody>\n",
              "</table>\n",
              "</div>\n",
              "      <button class=\"colab-df-convert\" onclick=\"convertToInteractive('df-ba8d6a9b-cc7d-43c3-9e70-1e147896ef6e')\"\n",
              "              title=\"Convert this dataframe to an interactive table.\"\n",
              "              style=\"display:none;\">\n",
              "        \n",
              "  <svg xmlns=\"http://www.w3.org/2000/svg\" height=\"24px\"viewBox=\"0 0 24 24\"\n",
              "       width=\"24px\">\n",
              "    <path d=\"M0 0h24v24H0V0z\" fill=\"none\"/>\n",
              "    <path d=\"M18.56 5.44l.94 2.06.94-2.06 2.06-.94-2.06-.94-.94-2.06-.94 2.06-2.06.94zm-11 1L8.5 8.5l.94-2.06 2.06-.94-2.06-.94L8.5 2.5l-.94 2.06-2.06.94zm10 10l.94 2.06.94-2.06 2.06-.94-2.06-.94-.94-2.06-.94 2.06-2.06.94z\"/><path d=\"M17.41 7.96l-1.37-1.37c-.4-.4-.92-.59-1.43-.59-.52 0-1.04.2-1.43.59L10.3 9.45l-7.72 7.72c-.78.78-.78 2.05 0 2.83L4 21.41c.39.39.9.59 1.41.59.51 0 1.02-.2 1.41-.59l7.78-7.78 2.81-2.81c.8-.78.8-2.07 0-2.86zM5.41 20L4 18.59l7.72-7.72 1.47 1.35L5.41 20z\"/>\n",
              "  </svg>\n",
              "      </button>\n",
              "      \n",
              "  <style>\n",
              "    .colab-df-container {\n",
              "      display:flex;\n",
              "      flex-wrap:wrap;\n",
              "      gap: 12px;\n",
              "    }\n",
              "\n",
              "    .colab-df-convert {\n",
              "      background-color: #E8F0FE;\n",
              "      border: none;\n",
              "      border-radius: 50%;\n",
              "      cursor: pointer;\n",
              "      display: none;\n",
              "      fill: #1967D2;\n",
              "      height: 32px;\n",
              "      padding: 0 0 0 0;\n",
              "      width: 32px;\n",
              "    }\n",
              "\n",
              "    .colab-df-convert:hover {\n",
              "      background-color: #E2EBFA;\n",
              "      box-shadow: 0px 1px 2px rgba(60, 64, 67, 0.3), 0px 1px 3px 1px rgba(60, 64, 67, 0.15);\n",
              "      fill: #174EA6;\n",
              "    }\n",
              "\n",
              "    [theme=dark] .colab-df-convert {\n",
              "      background-color: #3B4455;\n",
              "      fill: #D2E3FC;\n",
              "    }\n",
              "\n",
              "    [theme=dark] .colab-df-convert:hover {\n",
              "      background-color: #434B5C;\n",
              "      box-shadow: 0px 1px 3px 1px rgba(0, 0, 0, 0.15);\n",
              "      filter: drop-shadow(0px 1px 2px rgba(0, 0, 0, 0.3));\n",
              "      fill: #FFFFFF;\n",
              "    }\n",
              "  </style>\n",
              "\n",
              "      <script>\n",
              "        const buttonEl =\n",
              "          document.querySelector('#df-ba8d6a9b-cc7d-43c3-9e70-1e147896ef6e button.colab-df-convert');\n",
              "        buttonEl.style.display =\n",
              "          google.colab.kernel.accessAllowed ? 'block' : 'none';\n",
              "\n",
              "        async function convertToInteractive(key) {\n",
              "          const element = document.querySelector('#df-ba8d6a9b-cc7d-43c3-9e70-1e147896ef6e');\n",
              "          const dataTable =\n",
              "            await google.colab.kernel.invokeFunction('convertToInteractive',\n",
              "                                                     [key], {});\n",
              "          if (!dataTable) return;\n",
              "\n",
              "          const docLinkHtml = 'Like what you see? Visit the ' +\n",
              "            '<a target=\"_blank\" href=https://colab.research.google.com/notebooks/data_table.ipynb>data table notebook</a>'\n",
              "            + ' to learn more about interactive tables.';\n",
              "          element.innerHTML = '';\n",
              "          dataTable['output_type'] = 'display_data';\n",
              "          await google.colab.output.renderOutput(dataTable, element);\n",
              "          const docLink = document.createElement('div');\n",
              "          docLink.innerHTML = docLinkHtml;\n",
              "          element.appendChild(docLink);\n",
              "        }\n",
              "      </script>\n",
              "    </div>\n",
              "  </div>\n",
              "  "
            ]
          },
          "metadata": {},
          "execution_count": 15
        }
      ]
    },
    {
      "cell_type": "code",
      "source": [
        "#Kuwait tiene el máximo de estudiantes"
      ],
      "metadata": {
        "id": "f6WbwaPi9wrO"
      },
      "execution_count": 16,
      "outputs": []
    },
    {
      "cell_type": "markdown",
      "source": [
        "**Stage**"
      ],
      "metadata": {
        "id": "UIcsz3p4CFei"
      }
    },
    {
      "cell_type": "code",
      "source": [
        "students.Stage.value_counts()"
      ],
      "metadata": {
        "colab": {
          "base_uri": "https://localhost:8080/"
        },
        "id": "boF-3OP8CJpQ",
        "outputId": "e69cb993-85d4-426a-dc42-3c8b4cbf63cc"
      },
      "execution_count": 17,
      "outputs": [
        {
          "output_type": "execute_result",
          "data": {
            "text/plain": [
              "MiddleSchool    248\n",
              "lowerlevel      197\n",
              "HighSchool       33\n",
              "Name: Stage, dtype: int64"
            ]
          },
          "metadata": {},
          "execution_count": 17
        }
      ]
    },
    {
      "cell_type": "markdown",
      "source": [
        "**Grade**"
      ],
      "metadata": {
        "id": "TGbzxTfKHUFc"
      }
    },
    {
      "cell_type": "code",
      "source": [
        "#La mayoría de los estudiantes de la plataforma están en Middle School. \n",
        "#Al menos en este momento, elijo quedarme con el stage genérico para tener un vistazo del rango etario y no ir al detalle del grade en específico"
      ],
      "metadata": {
        "id": "Q5pAIA6GCe_u"
      },
      "execution_count": 18,
      "outputs": []
    },
    {
      "cell_type": "markdown",
      "source": [
        "**Topics**"
      ],
      "metadata": {
        "id": "6v4R3nlx96PN"
      }
    },
    {
      "cell_type": "code",
      "source": [
        "cantidad_de_topics = students.Topic.nunique()"
      ],
      "metadata": {
        "id": "LHLYFnPeu0zZ"
      },
      "execution_count": 19,
      "outputs": []
    },
    {
      "cell_type": "code",
      "source": [
        "cantidad_de_topics"
      ],
      "metadata": {
        "colab": {
          "base_uri": "https://localhost:8080/"
        },
        "id": "mvMdPsmn-DVm",
        "outputId": "a2da4994-152d-4ead-f988-0292af524904"
      },
      "execution_count": 20,
      "outputs": [
        {
          "output_type": "execute_result",
          "data": {
            "text/plain": [
              "12"
            ]
          },
          "metadata": {},
          "execution_count": 20
        }
      ]
    },
    {
      "cell_type": "code",
      "source": [
        "students.Topic.value_counts()"
      ],
      "metadata": {
        "id": "BFRPJsIObjDt",
        "outputId": "b0154a9a-a535-42d9-cff6-35a33a3a03de",
        "colab": {
          "base_uri": "https://localhost:8080/"
        }
      },
      "execution_count": 21,
      "outputs": [
        {
          "output_type": "execute_result",
          "data": {
            "text/plain": [
              "IT           95\n",
              "French       63\n",
              "Arabic       59\n",
              "Science      51\n",
              "English      45\n",
              "Biology      30\n",
              "Spanish      25\n",
              "Chemistry    24\n",
              "Geology      24\n",
              "Quran        22\n",
              "Math         21\n",
              "History      19\n",
              "Name: Topic, dtype: int64"
            ]
          },
          "metadata": {},
          "execution_count": 21
        }
      ]
    },
    {
      "cell_type": "code",
      "source": [
        "students.Topic.value_counts().plot.bar()"
      ],
      "metadata": {
        "colab": {
          "base_uri": "https://localhost:8080/",
          "height": 323
        },
        "id": "x1Od1xKiwkwm",
        "outputId": "cf8dd6ad-175d-4f32-90d9-469a452338be"
      },
      "execution_count": 22,
      "outputs": [
        {
          "output_type": "execute_result",
          "data": {
            "text/plain": [
              "<matplotlib.axes._subplots.AxesSubplot at 0x7f20084851f0>"
            ]
          },
          "metadata": {},
          "execution_count": 22
        },
        {
          "output_type": "display_data",
          "data": {
            "text/plain": [
              "<Figure size 432x288 with 1 Axes>"
            ],
            "image/png": "[encoded data removed]"
          },
          "metadata": {
            "needs_background": "light"
          }
        }
      ]
    },
    {
      "cell_type": "markdown",
      "source": [
        "**Raised_Hands, Visited_Resources, Checked_Announcements, Participation**"
      ],
      "metadata": {
        "id": "Ij8ULN90U1Fo"
      }
    },
    {
      "cell_type": "code",
      "source": [
        "students.describe().round()"
      ],
      "metadata": {
        "colab": {
          "base_uri": "https://localhost:8080/",
          "height": 300
        },
        "id": "XyrDliZHYP2A",
        "outputId": "32f82fd3-c32b-4f3b-bf6c-c189a151fd95"
      },
      "execution_count": 23,
      "outputs": [
        {
          "output_type": "execute_result",
          "data": {
            "text/plain": [
              "       Raised_Hands  Visited_Resources  Checked_Announcements  Participation\n",
              "count         478.0              478.0                  478.0          478.0\n",
              "mean           47.0               55.0                   38.0           43.0\n",
              "std            31.0               33.0                   27.0           28.0\n",
              "min             0.0                0.0                    0.0            1.0\n",
              "25%            16.0               20.0                   14.0           20.0\n",
              "50%            50.0               65.0                   33.0           40.0\n",
              "75%            75.0               84.0                   58.0           70.0\n",
              "max           100.0               99.0                   98.0           99.0"
            ],
            "text/html": [
              "\n",
              "  <div id=\"df-519339c7-fcf2-40b3-9925-38a5468b889f\">\n",
              "    <div class=\"colab-df-container\">\n",
              "      <div>\n",
              "<style scoped>\n",
              "    .dataframe tbody tr th:only-of-type {\n",
              "        vertical-align: middle;\n",
              "    }\n",
              "\n",
              "    .dataframe tbody tr th {\n",
              "        vertical-align: top;\n",
              "    }\n",
              "\n",
              "    .dataframe thead th {\n",
              "        text-align: right;\n",
              "    }\n",
              "</style>\n",
              "<table border=\"1\" class=\"dataframe\">\n",
              "  <thead>\n",
              "    <tr style=\"text-align: right;\">\n",
              "      <th></th>\n",
              "      <th>Raised_Hands</th>\n",
              "      <th>Visited_Resources</th>\n",
              "      <th>Checked_Announcements</th>\n",
              "      <th>Participation</th>\n",
              "    </tr>\n",
              "  </thead>\n",
              "  <tbody>\n",
              "    <tr>\n",
              "      <th>count</th>\n",
              "      <td>478.0</td>\n",
              "      <td>478.0</td>\n",
              "      <td>478.0</td>\n",
              "      <td>478.0</td>\n",
              "    </tr>\n",
              "    <tr>\n",
              "      <th>mean</th>\n",
              "      <td>47.0</td>\n",
              "      <td>55.0</td>\n",
              "      <td>38.0</td>\n",
              "      <td>43.0</td>\n",
              "    </tr>\n",
              "    <tr>\n",
              "      <th>std</th>\n",
              "      <td>31.0</td>\n",
              "      <td>33.0</td>\n",
              "      <td>27.0</td>\n",
              "      <td>28.0</td>\n",
              "    </tr>\n",
              "    <tr>\n",
              "      <th>min</th>\n",
              "      <td>0.0</td>\n",
              "      <td>0.0</td>\n",
              "      <td>0.0</td>\n",
              "      <td>1.0</td>\n",
              "    </tr>\n",
              "    <tr>\n",
              "      <th>25%</th>\n",
              "      <td>16.0</td>\n",
              "      <td>20.0</td>\n",
              "      <td>14.0</td>\n",
              "      <td>20.0</td>\n",
              "    </tr>\n",
              "    <tr>\n",
              "      <th>50%</th>\n",
              "      <td>50.0</td>\n",
              "      <td>65.0</td>\n",
              "      <td>33.0</td>\n",
              "      <td>40.0</td>\n",
              "    </tr>\n",
              "    <tr>\n",
              "      <th>75%</th>\n",
              "      <td>75.0</td>\n",
              "      <td>84.0</td>\n",
              "      <td>58.0</td>\n",
              "      <td>70.0</td>\n",
              "    </tr>\n",
              "    <tr>\n",
              "      <th>max</th>\n",
              "      <td>100.0</td>\n",
              "      <td>99.0</td>\n",
              "      <td>98.0</td>\n",
              "      <td>99.0</td>\n",
              "    </tr>\n",
              "  </tbody>\n",
              "</table>\n",
              "</div>\n",
              "      <button class=\"colab-df-convert\" onclick=\"convertToInteractive('df-519339c7-fcf2-40b3-9925-38a5468b889f')\"\n",
              "              title=\"Convert this dataframe to an interactive table.\"\n",
              "              style=\"display:none;\">\n",
              "        \n",
              "  <svg xmlns=\"http://www.w3.org/2000/svg\" height=\"24px\"viewBox=\"0 0 24 24\"\n",
              "       width=\"24px\">\n",
              "    <path d=\"M0 0h24v24H0V0z\" fill=\"none\"/>\n",
              "    <path d=\"M18.56 5.44l.94 2.06.94-2.06 2.06-.94-2.06-.94-.94-2.06-.94 2.06-2.06.94zm-11 1L8.5 8.5l.94-2.06 2.06-.94-2.06-.94L8.5 2.5l-.94 2.06-2.06.94zm10 10l.94 2.06.94-2.06 2.06-.94-2.06-.94-.94-2.06-.94 2.06-2.06.94z\"/><path d=\"M17.41 7.96l-1.37-1.37c-.4-.4-.92-.59-1.43-.59-.52 0-1.04.2-1.43.59L10.3 9.45l-7.72 7.72c-.78.78-.78 2.05 0 2.83L4 21.41c.39.39.9.59 1.41.59.51 0 1.02-.2 1.41-.59l7.78-7.78 2.81-2.81c.8-.78.8-2.07 0-2.86zM5.41 20L4 18.59l7.72-7.72 1.47 1.35L5.41 20z\"/>\n",
              "  </svg>\n",
              "      </button>\n",
              "      \n",
              "  <style>\n",
              "    .colab-df-container {\n",
              "      display:flex;\n",
              "      flex-wrap:wrap;\n",
              "      gap: 12px;\n",
              "    }\n",
              "\n",
              "    .colab-df-convert {\n",
              "      background-color: #E8F0FE;\n",
              "      border: none;\n",
              "      border-radius: 50%;\n",
              "      cursor: pointer;\n",
              "      display: none;\n",
              "      fill: #1967D2;\n",
              "      height: 32px;\n",
              "      padding: 0 0 0 0;\n",
              "      width: 32px;\n",
              "    }\n",
              "\n",
              "    .colab-df-convert:hover {\n",
              "      background-color: #E2EBFA;\n",
              "      box-shadow: 0px 1px 2px rgba(60, 64, 67, 0.3), 0px 1px 3px 1px rgba(60, 64, 67, 0.15);\n",
              "      fill: #174EA6;\n",
              "    }\n",
              "\n",
              "    [theme=dark] .colab-df-convert {\n",
              "      background-color: #3B4455;\n",
              "      fill: #D2E3FC;\n",
              "    }\n",
              "\n",
              "    [theme=dark] .colab-df-convert:hover {\n",
              "      background-color: #434B5C;\n",
              "      box-shadow: 0px 1px 3px 1px rgba(0, 0, 0, 0.15);\n",
              "      filter: drop-shadow(0px 1px 2px rgba(0, 0, 0, 0.3));\n",
              "      fill: #FFFFFF;\n",
              "    }\n",
              "  </style>\n",
              "\n",
              "      <script>\n",
              "        const buttonEl =\n",
              "          document.querySelector('#df-519339c7-fcf2-40b3-9925-38a5468b889f button.colab-df-convert');\n",
              "        buttonEl.style.display =\n",
              "          google.colab.kernel.accessAllowed ? 'block' : 'none';\n",
              "\n",
              "        async function convertToInteractive(key) {\n",
              "          const element = document.querySelector('#df-519339c7-fcf2-40b3-9925-38a5468b889f');\n",
              "          const dataTable =\n",
              "            await google.colab.kernel.invokeFunction('convertToInteractive',\n",
              "                                                     [key], {});\n",
              "          if (!dataTable) return;\n",
              "\n",
              "          const docLinkHtml = 'Like what you see? Visit the ' +\n",
              "            '<a target=\"_blank\" href=https://colab.research.google.com/notebooks/data_table.ipynb>data table notebook</a>'\n",
              "            + ' to learn more about interactive tables.';\n",
              "          element.innerHTML = '';\n",
              "          dataTable['output_type'] = 'display_data';\n",
              "          await google.colab.output.renderOutput(dataTable, element);\n",
              "          const docLink = document.createElement('div');\n",
              "          docLink.innerHTML = docLinkHtml;\n",
              "          element.appendChild(docLink);\n",
              "        }\n",
              "      </script>\n",
              "    </div>\n",
              "  </div>\n",
              "  "
            ]
          },
          "metadata": {},
          "execution_count": 23
        }
      ]
    },
    {
      "cell_type": "code",
      "source": [
        "students.plot.box(figsize=(10,5))"
      ],
      "metadata": {
        "colab": {
          "base_uri": "https://localhost:8080/",
          "height": 338
        },
        "id": "CeiKg6saYUUe",
        "outputId": "06793474-dd8f-4590-90f0-12ced1b2da9f"
      },
      "execution_count": 24,
      "outputs": [
        {
          "output_type": "execute_result",
          "data": {
            "text/plain": [
              "<matplotlib.axes._subplots.AxesSubplot at 0x7f200847d6d0>"
            ]
          },
          "metadata": {},
          "execution_count": 24
        },
        {
          "output_type": "display_data",
          "data": {
            "text/plain": [
              "<Figure size 720x360 with 1 Axes>"
            ],
            "image/png": "[encoded data removed]"
          },
          "metadata": {
            "needs_background": "light"
          }
        }
      ]
    },
    {
      "cell_type": "code",
      "source": [
        "#Están parejos"
      ],
      "metadata": {
        "id": "31JWVtUpWJId"
      },
      "execution_count": 25,
      "outputs": []
    },
    {
      "cell_type": "markdown",
      "source": [
        "**7) ESCALADO**"
      ],
      "metadata": {
        "id": "NECFQy4ThXtM"
      }
    },
    {
      "cell_type": "markdown",
      "source": [
        "\n",
        "\n",
        "```\n",
        "Variables numéricas:\n",
        "```\n",
        "\n"
      ],
      "metadata": {
        "id": "8qHoPMJFT-cO"
      }
    },
    {
      "cell_type": "code",
      "source": [
        "numericas = students.select_dtypes(exclude=['object']).columns\n",
        "numericas\n"
      ],
      "metadata": {
        "colab": {
          "base_uri": "https://localhost:8080/"
        },
        "id": "gzmGNgSxhgWB",
        "outputId": "7fe29324-f0c6-466f-9672-3082ea6c7960"
      },
      "execution_count": 26,
      "outputs": [
        {
          "output_type": "execute_result",
          "data": {
            "text/plain": [
              "Index(['Raised_Hands', 'Visited_Resources', 'Checked_Announcements',\n",
              "       'Participation'],\n",
              "      dtype='object')"
            ]
          },
          "metadata": {},
          "execution_count": 26
        }
      ]
    },
    {
      "cell_type": "markdown",
      "source": [
        "\n",
        "\n",
        "```\n",
        "Creo el histograma y boxplot de cada variable. En función a su distribución y sus outliers eligo el método de escalado.\n",
        "```\n",
        "\n"
      ],
      "metadata": {
        "id": "Yg3qiYlkUPfp"
      }
    },
    {
      "cell_type": "code",
      "source": [
        "for variable in numericas:\n",
        "    fig, ax = plt.subplots(1,2,figsize=(10,5))\n",
        "\n",
        "    ax[0].set_title(f\"Distribucion de {variable}\")\n",
        "    sns.histplot(data = students, x = f\"{variable}\", kde=True, ax = ax[0])\n",
        "\n",
        "    ax[1].set_title(f\"Boxplot de {variable}\")\n",
        "    sns.boxplot(data = students, x = f\"{variable}\", ax=ax[1])"
      ],
      "metadata": {
        "colab": {
          "base_uri": "https://localhost:8080/",
          "height": 1000
        },
        "id": "DWGBGB4cVW1N",
        "outputId": "c03452bd-3021-409a-d37c-b4c3a335e268"
      },
      "execution_count": 27,
      "outputs": [
        {
          "output_type": "display_data",
          "data": {
            "text/plain": [
              "<Figure size 720x360 with 2 Axes>"
            ],
            "image/png": "[encoded data removed]"
          },
          "metadata": {
            "needs_background": "light"
          }
        },
        {
          "output_type": "display_data",
          "data": {
            "text/plain": [
              "<Figure size 720x360 with 2 Axes>"
            ],
            "image/png": "[encoded data removed]"
          },
          "metadata": {
            "needs_background": "light"
          }
        },
        {
          "output_type": "display_data",
          "data": {
            "text/plain": [
              "<Figure size 720x360 with 2 Axes>"
            ],
            "image/png": "[encoded data removed]"
          },
          "metadata": {
            "needs_background": "light"
          }
        },
        {
          "output_type": "display_data",
          "data": {
            "text/plain": [
              "<Figure size 720x360 with 2 Axes>"
            ],
            "image/png": "[encoded data removed]"
          },
          "metadata": {
            "needs_background": "light"
          }
        }
      ]
    },
    {
      "cell_type": "markdown",
      "source": [
        "\n",
        "\n",
        "```\n",
        "(Ninguna tiene outliers y ninguna tiene distribución normal)\n",
        "```\n",
        "\n"
      ],
      "metadata": {
        "id": "yz2XE8VyU5pr"
      }
    },
    {
      "cell_type": "code",
      "source": [
        "from sklearn.preprocessing import MinMaxScaler\n",
        "minmaxscaler = MinMaxScaler()\n",
        "\n",
        "for variable in numericas:\n",
        "  students[variable]= minmaxscaler.fit_transform(students[[variable]])\n",
        "\n",
        "students.head()\n"
      ],
      "metadata": {
        "colab": {
          "base_uri": "https://localhost:8080/",
          "height": 270
        },
        "id": "QZ5pBF7KV0Fu",
        "outputId": "8133a184-2e00-4cf9-fb72-084af20ee03f"
      },
      "execution_count": 28,
      "outputs": [
        {
          "output_type": "execute_result",
          "data": {
            "text/plain": [
              "  Gender Nationality       Stage Grade Classroom Topic Semester Responsible  \\\n",
              "0      M          KW  lowerlevel  G-04         A    IT        F      Father   \n",
              "1      M          KW  lowerlevel  G-04         A    IT        F      Father   \n",
              "2      M          KW  lowerlevel  G-04         A    IT        F      Father   \n",
              "3      M          KW  lowerlevel  G-04         A    IT        F      Father   \n",
              "4      M          KW  lowerlevel  G-04         A    IT        F      Father   \n",
              "\n",
              "   Raised_Hands  Visited_Resources  Checked_Announcements  Participation  \\\n",
              "0          0.15           0.161616               0.020408       0.193878   \n",
              "1          0.20           0.202020               0.030612       0.244898   \n",
              "2          0.10           0.070707               0.000000       0.295918   \n",
              "3          0.30           0.252525               0.051020       0.346939   \n",
              "4          0.40           0.505051               0.122449       0.500000   \n",
              "\n",
              "  Parent_Answering_Survey Parent_School_Satisfaction Absence_Days  \\\n",
              "0                     Yes                       Good      Under-7   \n",
              "1                     Yes                       Good      Under-7   \n",
              "2                      No                        Bad      Above-7   \n",
              "3                      No                        Bad      Above-7   \n",
              "4                      No                        Bad      Above-7   \n",
              "\n",
              "  Reached_Level  \n",
              "0        Middle  \n",
              "1        Middle  \n",
              "2           Low  \n",
              "3           Low  \n",
              "4        Middle  "
            ],
            "text/html": [
              "\n",
              "  <div id=\"df-09ca9fe3-a093-4206-bcad-4e7508f6416e\">\n",
              "    <div class=\"colab-df-container\">\n",
              "      <div>\n",
              "<style scoped>\n",
              "    .dataframe tbody tr th:only-of-type {\n",
              "        vertical-align: middle;\n",
              "    }\n",
              "\n",
              "    .dataframe tbody tr th {\n",
              "        vertical-align: top;\n",
              "    }\n",
              "\n",
              "    .dataframe thead th {\n",
              "        text-align: right;\n",
              "    }\n",
              "</style>\n",
              "<table border=\"1\" class=\"dataframe\">\n",
              "  <thead>\n",
              "    <tr style=\"text-align: right;\">\n",
              "      <th></th>\n",
              "      <th>Gender</th>\n",
              "      <th>Nationality</th>\n",
              "      <th>Stage</th>\n",
              "      <th>Grade</th>\n",
              "      <th>Classroom</th>\n",
              "      <th>Topic</th>\n",
              "      <th>Semester</th>\n",
              "      <th>Responsible</th>\n",
              "      <th>Raised_Hands</th>\n",
              "      <th>Visited_Resources</th>\n",
              "      <th>Checked_Announcements</th>\n",
              "      <th>Participation</th>\n",
              "      <th>Parent_Answering_Survey</th>\n",
              "      <th>Parent_School_Satisfaction</th>\n",
              "      <th>Absence_Days</th>\n",
              "      <th>Reached_Level</th>\n",
              "    </tr>\n",
              "  </thead>\n",
              "  <tbody>\n",
              "    <tr>\n",
              "      <th>0</th>\n",
              "      <td>M</td>\n",
              "      <td>KW</td>\n",
              "      <td>lowerlevel</td>\n",
              "      <td>G-04</td>\n",
              "      <td>A</td>\n",
              "      <td>IT</td>\n",
              "      <td>F</td>\n",
              "      <td>Father</td>\n",
              "      <td>0.15</td>\n",
              "      <td>0.161616</td>\n",
              "      <td>0.020408</td>\n",
              "      <td>0.193878</td>\n",
              "      <td>Yes</td>\n",
              "      <td>Good</td>\n",
              "      <td>Under-7</td>\n",
              "      <td>Middle</td>\n",
              "    </tr>\n",
              "    <tr>\n",
              "      <th>1</th>\n",
              "      <td>M</td>\n",
              "      <td>KW</td>\n",
              "      <td>lowerlevel</td>\n",
              "      <td>G-04</td>\n",
              "      <td>A</td>\n",
              "      <td>IT</td>\n",
              "      <td>F</td>\n",
              "      <td>Father</td>\n",
              "      <td>0.20</td>\n",
              "      <td>0.202020</td>\n",
              "      <td>0.030612</td>\n",
              "      <td>0.244898</td>\n",
              "      <td>Yes</td>\n",
              "      <td>Good</td>\n",
              "      <td>Under-7</td>\n",
              "      <td>Middle</td>\n",
              "    </tr>\n",
              "    <tr>\n",
              "      <th>2</th>\n",
              "      <td>M</td>\n",
              "      <td>KW</td>\n",
              "      <td>lowerlevel</td>\n",
              "      <td>G-04</td>\n",
              "      <td>A</td>\n",
              "      <td>IT</td>\n",
              "      <td>F</td>\n",
              "      <td>Father</td>\n",
              "      <td>0.10</td>\n",
              "      <td>0.070707</td>\n",
              "      <td>0.000000</td>\n",
              "      <td>0.295918</td>\n",
              "      <td>No</td>\n",
              "      <td>Bad</td>\n",
              "      <td>Above-7</td>\n",
              "      <td>Low</td>\n",
              "    </tr>\n",
              "    <tr>\n",
              "      <th>3</th>\n",
              "      <td>M</td>\n",
              "      <td>KW</td>\n",
              "      <td>lowerlevel</td>\n",
              "      <td>G-04</td>\n",
              "      <td>A</td>\n",
              "      <td>IT</td>\n",
              "      <td>F</td>\n",
              "      <td>Father</td>\n",
              "      <td>0.30</td>\n",
              "      <td>0.252525</td>\n",
              "      <td>0.051020</td>\n",
              "      <td>0.346939</td>\n",
              "      <td>No</td>\n",
              "      <td>Bad</td>\n",
              "      <td>Above-7</td>\n",
              "      <td>Low</td>\n",
              "    </tr>\n",
              "    <tr>\n",
              "      <th>4</th>\n",
              "      <td>M</td>\n",
              "      <td>KW</td>\n",
              "      <td>lowerlevel</td>\n",
              "      <td>G-04</td>\n",
              "      <td>A</td>\n",
              "      <td>IT</td>\n",
              "      <td>F</td>\n",
              "      <td>Father</td>\n",
              "      <td>0.40</td>\n",
              "      <td>0.505051</td>\n",
              "      <td>0.122449</td>\n",
              "      <td>0.500000</td>\n",
              "      <td>No</td>\n",
              "      <td>Bad</td>\n",
              "      <td>Above-7</td>\n",
              "      <td>Middle</td>\n",
              "    </tr>\n",
              "  </tbody>\n",
              "</table>\n",
              "</div>\n",
              "      <button class=\"colab-df-convert\" onclick=\"convertToInteractive('df-09ca9fe3-a093-4206-bcad-4e7508f6416e')\"\n",
              "              title=\"Convert this dataframe to an interactive table.\"\n",
              "              style=\"display:none;\">\n",
              "        \n",
              "  <svg xmlns=\"http://www.w3.org/2000/svg\" height=\"24px\"viewBox=\"0 0 24 24\"\n",
              "       width=\"24px\">\n",
              "    <path d=\"M0 0h24v24H0V0z\" fill=\"none\"/>\n",
              "    <path d=\"M18.56 5.44l.94 2.06.94-2.06 2.06-.94-2.06-.94-.94-2.06-.94 2.06-2.06.94zm-11 1L8.5 8.5l.94-2.06 2.06-.94-2.06-.94L8.5 2.5l-.94 2.06-2.06.94zm10 10l.94 2.06.94-2.06 2.06-.94-2.06-.94-.94-2.06-.94 2.06-2.06.94z\"/><path d=\"M17.41 7.96l-1.37-1.37c-.4-.4-.92-.59-1.43-.59-.52 0-1.04.2-1.43.59L10.3 9.45l-7.72 7.72c-.78.78-.78 2.05 0 2.83L4 21.41c.39.39.9.59 1.41.59.51 0 1.02-.2 1.41-.59l7.78-7.78 2.81-2.81c.8-.78.8-2.07 0-2.86zM5.41 20L4 18.59l7.72-7.72 1.47 1.35L5.41 20z\"/>\n",
              "  </svg>\n",
              "      </button>\n",
              "      \n",
              "  <style>\n",
              "    .colab-df-container {\n",
              "      display:flex;\n",
              "      flex-wrap:wrap;\n",
              "      gap: 12px;\n",
              "    }\n",
              "\n",
              "    .colab-df-convert {\n",
              "      background-color: #E8F0FE;\n",
              "      border: none;\n",
              "      border-radius: 50%;\n",
              "      cursor: pointer;\n",
              "      display: none;\n",
              "      fill: #1967D2;\n",
              "      height: 32px;\n",
              "      padding: 0 0 0 0;\n",
              "      width: 32px;\n",
              "    }\n",
              "\n",
              "    .colab-df-convert:hover {\n",
              "      background-color: #E2EBFA;\n",
              "      box-shadow: 0px 1px 2px rgba(60, 64, 67, 0.3), 0px 1px 3px 1px rgba(60, 64, 67, 0.15);\n",
              "      fill: #174EA6;\n",
              "    }\n",
              "\n",
              "    [theme=dark] .colab-df-convert {\n",
              "      background-color: #3B4455;\n",
              "      fill: #D2E3FC;\n",
              "    }\n",
              "\n",
              "    [theme=dark] .colab-df-convert:hover {\n",
              "      background-color: #434B5C;\n",
              "      box-shadow: 0px 1px 3px 1px rgba(0, 0, 0, 0.15);\n",
              "      filter: drop-shadow(0px 1px 2px rgba(0, 0, 0, 0.3));\n",
              "      fill: #FFFFFF;\n",
              "    }\n",
              "  </style>\n",
              "\n",
              "      <script>\n",
              "        const buttonEl =\n",
              "          document.querySelector('#df-09ca9fe3-a093-4206-bcad-4e7508f6416e button.colab-df-convert');\n",
              "        buttonEl.style.display =\n",
              "          google.colab.kernel.accessAllowed ? 'block' : 'none';\n",
              "\n",
              "        async function convertToInteractive(key) {\n",
              "          const element = document.querySelector('#df-09ca9fe3-a093-4206-bcad-4e7508f6416e');\n",
              "          const dataTable =\n",
              "            await google.colab.kernel.invokeFunction('convertToInteractive',\n",
              "                                                     [key], {});\n",
              "          if (!dataTable) return;\n",
              "\n",
              "          const docLinkHtml = 'Like what you see? Visit the ' +\n",
              "            '<a target=\"_blank\" href=https://colab.research.google.com/notebooks/data_table.ipynb>data table notebook</a>'\n",
              "            + ' to learn more about interactive tables.';\n",
              "          element.innerHTML = '';\n",
              "          dataTable['output_type'] = 'display_data';\n",
              "          await google.colab.output.renderOutput(dataTable, element);\n",
              "          const docLink = document.createElement('div');\n",
              "          docLink.innerHTML = docLinkHtml;\n",
              "          element.appendChild(docLink);\n",
              "        }\n",
              "      </script>\n",
              "    </div>\n",
              "  </div>\n",
              "  "
            ]
          },
          "metadata": {},
          "execution_count": 28
        }
      ]
    },
    {
      "cell_type": "markdown",
      "source": [
        "**8) ENCODING**"
      ],
      "metadata": {
        "id": "rTIqjUjTlja0"
      }
    },
    {
      "cell_type": "markdown",
      "source": [
        "\n",
        "\n",
        "```\n",
        "Variables categóricas:\n",
        "```\n",
        "\n"
      ],
      "metadata": {
        "id": "TT_vDRTiW1Vg"
      }
    },
    {
      "cell_type": "code",
      "source": [
        "categoricas = students.select_dtypes(['object']).columns\n",
        "categoricas\n"
      ],
      "metadata": {
        "colab": {
          "base_uri": "https://localhost:8080/"
        },
        "id": "8Jfnqev6W4Y3",
        "outputId": "7a6dddd4-4cdc-49a7-d162-08a92a3672ae"
      },
      "execution_count": 29,
      "outputs": [
        {
          "output_type": "execute_result",
          "data": {
            "text/plain": [
              "Index(['Gender', 'Nationality', 'Stage', 'Grade', 'Classroom', 'Topic',\n",
              "       'Semester', 'Responsible', 'Parent_Answering_Survey',\n",
              "       'Parent_School_Satisfaction', 'Absence_Days', 'Reached_Level'],\n",
              "      dtype='object')"
            ]
          },
          "metadata": {},
          "execution_count": 29
        }
      ]
    },
    {
      "cell_type": "markdown",
      "source": [
        "\n",
        "\n",
        "```\n",
        "Saco las que no voy a usar:\n",
        "```\n",
        "\n"
      ],
      "metadata": {
        "id": "ok5gqUAgi4ZH"
      }
    },
    {
      "cell_type": "code",
      "source": [
        "students.drop(columns = [\"Grade\", \"Classroom\"], inplace = True)\n",
        "students"
      ],
      "metadata": {
        "colab": {
          "base_uri": "https://localhost:8080/",
          "height": 488
        },
        "id": "LSymtMfkjNBH",
        "outputId": "059b2e5d-0fab-4c9d-ecce-90b85d519eaf"
      },
      "execution_count": 30,
      "outputs": [
        {
          "output_type": "execute_result",
          "data": {
            "text/plain": [
              "    Gender Nationality         Stage      Topic Semester Responsible  \\\n",
              "0        M          KW    lowerlevel         IT        F      Father   \n",
              "1        M          KW    lowerlevel         IT        F      Father   \n",
              "2        M          KW    lowerlevel         IT        F      Father   \n",
              "3        M          KW    lowerlevel         IT        F      Father   \n",
              "4        M          KW    lowerlevel         IT        F      Father   \n",
              "..     ...         ...           ...        ...      ...         ...   \n",
              "475      F      Jordan  MiddleSchool  Chemistry        S      Father   \n",
              "476      F      Jordan  MiddleSchool    Geology        F      Father   \n",
              "477      F      Jordan  MiddleSchool    Geology        S      Father   \n",
              "478      F      Jordan  MiddleSchool    History        F      Father   \n",
              "479      F      Jordan  MiddleSchool    History        S      Father   \n",
              "\n",
              "     Raised_Hands  Visited_Resources  Checked_Announcements  Participation  \\\n",
              "0            0.15           0.161616               0.020408       0.193878   \n",
              "1            0.20           0.202020               0.030612       0.244898   \n",
              "2            0.10           0.070707               0.000000       0.295918   \n",
              "3            0.30           0.252525               0.051020       0.346939   \n",
              "4            0.40           0.505051               0.122449       0.500000   \n",
              "..            ...                ...                    ...            ...   \n",
              "475          0.05           0.040404               0.051020       0.071429   \n",
              "476          0.50           0.777778               0.142857       0.275510   \n",
              "477          0.55           0.747475               0.255102       0.285714   \n",
              "478          0.30           0.171717               0.142857       0.571429   \n",
              "479          0.35           0.141414               0.234694       0.622449   \n",
              "\n",
              "    Parent_Answering_Survey Parent_School_Satisfaction Absence_Days  \\\n",
              "0                       Yes                       Good      Under-7   \n",
              "1                       Yes                       Good      Under-7   \n",
              "2                        No                        Bad      Above-7   \n",
              "3                        No                        Bad      Above-7   \n",
              "4                        No                        Bad      Above-7   \n",
              "..                      ...                        ...          ...   \n",
              "475                      No                        Bad      Above-7   \n",
              "476                      No                        Bad      Under-7   \n",
              "477                      No                        Bad      Under-7   \n",
              "478                      No                        Bad      Above-7   \n",
              "479                      No                        Bad      Above-7   \n",
              "\n",
              "    Reached_Level  \n",
              "0          Middle  \n",
              "1          Middle  \n",
              "2             Low  \n",
              "3             Low  \n",
              "4          Middle  \n",
              "..            ...  \n",
              "475           Low  \n",
              "476        Middle  \n",
              "477        Middle  \n",
              "478           Low  \n",
              "479           Low  \n",
              "\n",
              "[478 rows x 14 columns]"
            ],
            "text/html": [
              "\n",
              "  <div id=\"df-18e84cd8-8606-4318-8dd3-70894f7254a0\">\n",
              "    <div class=\"colab-df-container\">\n",
              "      <div>\n",
              "<style scoped>\n",
              "    .dataframe tbody tr th:only-of-type {\n",
              "        vertical-align: middle;\n",
              "    }\n",
              "\n",
              "    .dataframe tbody tr th {\n",
              "        vertical-align: top;\n",
              "    }\n",
              "\n",
              "    .dataframe thead th {\n",
              "        text-align: right;\n",
              "    }\n",
              "</style>\n",
              "<table border=\"1\" class=\"dataframe\">\n",
              "  <thead>\n",
              "    <tr style=\"text-align: right;\">\n",
              "      <th></th>\n",
              "      <th>Gender</th>\n",
              "      <th>Nationality</th>\n",
              "      <th>Stage</th>\n",
              "      <th>Topic</th>\n",
              "      <th>Semester</th>\n",
              "      <th>Responsible</th>\n",
              "      <th>Raised_Hands</th>\n",
              "      <th>Visited_Resources</th>\n",
              "      <th>Checked_Announcements</th>\n",
              "      <th>Participation</th>\n",
              "      <th>Parent_Answering_Survey</th>\n",
              "      <th>Parent_School_Satisfaction</th>\n",
              "      <th>Absence_Days</th>\n",
              "      <th>Reached_Level</th>\n",
              "    </tr>\n",
              "  </thead>\n",
              "  <tbody>\n",
              "    <tr>\n",
              "      <th>0</th>\n",
              "      <td>M</td>\n",
              "      <td>KW</td>\n",
              "      <td>lowerlevel</td>\n",
              "      <td>IT</td>\n",
              "      <td>F</td>\n",
              "      <td>Father</td>\n",
              "      <td>0.15</td>\n",
              "      <td>0.161616</td>\n",
              "      <td>0.020408</td>\n",
              "      <td>0.193878</td>\n",
              "      <td>Yes</td>\n",
              "      <td>Good</td>\n",
              "      <td>Under-7</td>\n",
              "      <td>Middle</td>\n",
              "    </tr>\n",
              "    <tr>\n",
              "      <th>1</th>\n",
              "      <td>M</td>\n",
              "      <td>KW</td>\n",
              "      <td>lowerlevel</td>\n",
              "      <td>IT</td>\n",
              "      <td>F</td>\n",
              "      <td>Father</td>\n",
              "      <td>0.20</td>\n",
              "      <td>0.202020</td>\n",
              "      <td>0.030612</td>\n",
              "      <td>0.244898</td>\n",
              "      <td>Yes</td>\n",
              "      <td>Good</td>\n",
              "      <td>Under-7</td>\n",
              "      <td>Middle</td>\n",
              "    </tr>\n",
              "    <tr>\n",
              "      <th>2</th>\n",
              "      <td>M</td>\n",
              "      <td>KW</td>\n",
              "      <td>lowerlevel</td>\n",
              "      <td>IT</td>\n",
              "      <td>F</td>\n",
              "      <td>Father</td>\n",
              "      <td>0.10</td>\n",
              "      <td>0.070707</td>\n",
              "      <td>0.000000</td>\n",
              "      <td>0.295918</td>\n",
              "      <td>No</td>\n",
              "      <td>Bad</td>\n",
              "      <td>Above-7</td>\n",
              "      <td>Low</td>\n",
              "    </tr>\n",
              "    <tr>\n",
              "      <th>3</th>\n",
              "      <td>M</td>\n",
              "      <td>KW</td>\n",
              "      <td>lowerlevel</td>\n",
              "      <td>IT</td>\n",
              "      <td>F</td>\n",
              "      <td>Father</td>\n",
              "      <td>0.30</td>\n",
              "      <td>0.252525</td>\n",
              "      <td>0.051020</td>\n",
              "      <td>0.346939</td>\n",
              "      <td>No</td>\n",
              "      <td>Bad</td>\n",
              "      <td>Above-7</td>\n",
              "      <td>Low</td>\n",
              "    </tr>\n",
              "    <tr>\n",
              "      <th>4</th>\n",
              "      <td>M</td>\n",
              "      <td>KW</td>\n",
              "      <td>lowerlevel</td>\n",
              "      <td>IT</td>\n",
              "      <td>F</td>\n",
              "      <td>Father</td>\n",
              "      <td>0.40</td>\n",
              "      <td>0.505051</td>\n",
              "      <td>0.122449</td>\n",
              "      <td>0.500000</td>\n",
              "      <td>No</td>\n",
              "      <td>Bad</td>\n",
              "      <td>Above-7</td>\n",
              "      <td>Middle</td>\n",
              "    </tr>\n",
              "    <tr>\n",
              "      <th>...</th>\n",
              "      <td>...</td>\n",
              "      <td>...</td>\n",
              "      <td>...</td>\n",
              "      <td>...</td>\n",
              "      <td>...</td>\n",
              "      <td>...</td>\n",
              "      <td>...</td>\n",
              "      <td>...</td>\n",
              "      <td>...</td>\n",
              "      <td>...</td>\n",
              "      <td>...</td>\n",
              "      <td>...</td>\n",
              "      <td>...</td>\n",
              "      <td>...</td>\n",
              "    </tr>\n",
              "    <tr>\n",
              "      <th>475</th>\n",
              "      <td>F</td>\n",
              "      <td>Jordan</td>\n",
              "      <td>MiddleSchool</td>\n",
              "      <td>Chemistry</td>\n",
              "      <td>S</td>\n",
              "      <td>Father</td>\n",
              "      <td>0.05</td>\n",
              "      <td>0.040404</td>\n",
              "      <td>0.051020</td>\n",
              "      <td>0.071429</td>\n",
              "      <td>No</td>\n",
              "      <td>Bad</td>\n",
              "      <td>Above-7</td>\n",
              "      <td>Low</td>\n",
              "    </tr>\n",
              "    <tr>\n",
              "      <th>476</th>\n",
              "      <td>F</td>\n",
              "      <td>Jordan</td>\n",
              "      <td>MiddleSchool</td>\n",
              "      <td>Geology</td>\n",
              "      <td>F</td>\n",
              "      <td>Father</td>\n",
              "      <td>0.50</td>\n",
              "      <td>0.777778</td>\n",
              "      <td>0.142857</td>\n",
              "      <td>0.275510</td>\n",
              "      <td>No</td>\n",
              "      <td>Bad</td>\n",
              "      <td>Under-7</td>\n",
              "      <td>Middle</td>\n",
              "    </tr>\n",
              "    <tr>\n",
              "      <th>477</th>\n",
              "      <td>F</td>\n",
              "      <td>Jordan</td>\n",
              "      <td>MiddleSchool</td>\n",
              "      <td>Geology</td>\n",
              "      <td>S</td>\n",
              "      <td>Father</td>\n",
              "      <td>0.55</td>\n",
              "      <td>0.747475</td>\n",
              "      <td>0.255102</td>\n",
              "      <td>0.285714</td>\n",
              "      <td>No</td>\n",
              "      <td>Bad</td>\n",
              "      <td>Under-7</td>\n",
              "      <td>Middle</td>\n",
              "    </tr>\n",
              "    <tr>\n",
              "      <th>478</th>\n",
              "      <td>F</td>\n",
              "      <td>Jordan</td>\n",
              "      <td>MiddleSchool</td>\n",
              "      <td>History</td>\n",
              "      <td>F</td>\n",
              "      <td>Father</td>\n",
              "      <td>0.30</td>\n",
              "      <td>0.171717</td>\n",
              "      <td>0.142857</td>\n",
              "      <td>0.571429</td>\n",
              "      <td>No</td>\n",
              "      <td>Bad</td>\n",
              "      <td>Above-7</td>\n",
              "      <td>Low</td>\n",
              "    </tr>\n",
              "    <tr>\n",
              "      <th>479</th>\n",
              "      <td>F</td>\n",
              "      <td>Jordan</td>\n",
              "      <td>MiddleSchool</td>\n",
              "      <td>History</td>\n",
              "      <td>S</td>\n",
              "      <td>Father</td>\n",
              "      <td>0.35</td>\n",
              "      <td>0.141414</td>\n",
              "      <td>0.234694</td>\n",
              "      <td>0.622449</td>\n",
              "      <td>No</td>\n",
              "      <td>Bad</td>\n",
              "      <td>Above-7</td>\n",
              "      <td>Low</td>\n",
              "    </tr>\n",
              "  </tbody>\n",
              "</table>\n",
              "<p>478 rows × 14 columns</p>\n",
              "</div>\n",
              "      <button class=\"colab-df-convert\" onclick=\"convertToInteractive('df-18e84cd8-8606-4318-8dd3-70894f7254a0')\"\n",
              "              title=\"Convert this dataframe to an interactive table.\"\n",
              "              style=\"display:none;\">\n",
              "        \n",
              "  <svg xmlns=\"http://www.w3.org/2000/svg\" height=\"24px\"viewBox=\"0 0 24 24\"\n",
              "       width=\"24px\">\n",
              "    <path d=\"M0 0h24v24H0V0z\" fill=\"none\"/>\n",
              "    <path d=\"M18.56 5.44l.94 2.06.94-2.06 2.06-.94-2.06-.94-.94-2.06-.94 2.06-2.06.94zm-11 1L8.5 8.5l.94-2.06 2.06-.94-2.06-.94L8.5 2.5l-.94 2.06-2.06.94zm10 10l.94 2.06.94-2.06 2.06-.94-2.06-.94-.94-2.06-.94 2.06-2.06.94z\"/><path d=\"M17.41 7.96l-1.37-1.37c-.4-.4-.92-.59-1.43-.59-.52 0-1.04.2-1.43.59L10.3 9.45l-7.72 7.72c-.78.78-.78 2.05 0 2.83L4 21.41c.39.39.9.59 1.41.59.51 0 1.02-.2 1.41-.59l7.78-7.78 2.81-2.81c.8-.78.8-2.07 0-2.86zM5.41 20L4 18.59l7.72-7.72 1.47 1.35L5.41 20z\"/>\n",
              "  </svg>\n",
              "      </button>\n",
              "      \n",
              "  <style>\n",
              "    .colab-df-container {\n",
              "      display:flex;\n",
              "      flex-wrap:wrap;\n",
              "      gap: 12px;\n",
              "    }\n",
              "\n",
              "    .colab-df-convert {\n",
              "      background-color: #E8F0FE;\n",
              "      border: none;\n",
              "      border-radius: 50%;\n",
              "      cursor: pointer;\n",
              "      display: none;\n",
              "      fill: #1967D2;\n",
              "      height: 32px;\n",
              "      padding: 0 0 0 0;\n",
              "      width: 32px;\n",
              "    }\n",
              "\n",
              "    .colab-df-convert:hover {\n",
              "      background-color: #E2EBFA;\n",
              "      box-shadow: 0px 1px 2px rgba(60, 64, 67, 0.3), 0px 1px 3px 1px rgba(60, 64, 67, 0.15);\n",
              "      fill: #174EA6;\n",
              "    }\n",
              "\n",
              "    [theme=dark] .colab-df-convert {\n",
              "      background-color: #3B4455;\n",
              "      fill: #D2E3FC;\n",
              "    }\n",
              "\n",
              "    [theme=dark] .colab-df-convert:hover {\n",
              "      background-color: #434B5C;\n",
              "      box-shadow: 0px 1px 3px 1px rgba(0, 0, 0, 0.15);\n",
              "      filter: drop-shadow(0px 1px 2px rgba(0, 0, 0, 0.3));\n",
              "      fill: #FFFFFF;\n",
              "    }\n",
              "  </style>\n",
              "\n",
              "      <script>\n",
              "        const buttonEl =\n",
              "          document.querySelector('#df-18e84cd8-8606-4318-8dd3-70894f7254a0 button.colab-df-convert');\n",
              "        buttonEl.style.display =\n",
              "          google.colab.kernel.accessAllowed ? 'block' : 'none';\n",
              "\n",
              "        async function convertToInteractive(key) {\n",
              "          const element = document.querySelector('#df-18e84cd8-8606-4318-8dd3-70894f7254a0');\n",
              "          const dataTable =\n",
              "            await google.colab.kernel.invokeFunction('convertToInteractive',\n",
              "                                                     [key], {});\n",
              "          if (!dataTable) return;\n",
              "\n",
              "          const docLinkHtml = 'Like what you see? Visit the ' +\n",
              "            '<a target=\"_blank\" href=https://colab.research.google.com/notebooks/data_table.ipynb>data table notebook</a>'\n",
              "            + ' to learn more about interactive tables.';\n",
              "          element.innerHTML = '';\n",
              "          dataTable['output_type'] = 'display_data';\n",
              "          await google.colab.output.renderOutput(dataTable, element);\n",
              "          const docLink = document.createElement('div');\n",
              "          docLink.innerHTML = docLinkHtml;\n",
              "          element.appendChild(docLink);\n",
              "        }\n",
              "      </script>\n",
              "    </div>\n",
              "  </div>\n",
              "  "
            ]
          },
          "metadata": {},
          "execution_count": 30
        }
      ]
    },
    {
      "cell_type": "markdown",
      "source": [
        "\n",
        "\n",
        "**Categóricas binary**\n",
        "\n",
        "\n"
      ],
      "metadata": {
        "id": "oDfnHTfxa_9P"
      }
    },
    {
      "cell_type": "code",
      "source": [
        "from sklearn.preprocessing import OneHotEncoder\n",
        "\n",
        "binary_encoder = OneHotEncoder(sparse=False, drop='if_binary')\n",
        "students['Gender'], students['Responsible'], students['Semester'], students['Parent_Answering_Survey'], students['Parent_School_Satisfaction'],students['Absence_Days']  = binary_encoder.fit_transform(students[['Gender', 'Responsible', 'Semester','Parent_Answering_Survey', 'Parent_Answering_Survey', 'Absence_Days']]).T\n",
        "\n"
      ],
      "metadata": {
        "id": "C2yZ9jnilaXf"
      },
      "execution_count": 31,
      "outputs": []
    },
    {
      "cell_type": "code",
      "source": [
        "students.head()"
      ],
      "metadata": {
        "colab": {
          "base_uri": "https://localhost:8080/",
          "height": 270
        },
        "id": "uWV62yY2Ijyz",
        "outputId": "0517d456-4ccb-405f-d56f-c11a7648a116"
      },
      "execution_count": 32,
      "outputs": [
        {
          "output_type": "execute_result",
          "data": {
            "text/plain": [
              "   Gender Nationality       Stage Topic  Semester  Responsible  Raised_Hands  \\\n",
              "0     1.0          KW  lowerlevel    IT       0.0          0.0          0.15   \n",
              "1     1.0          KW  lowerlevel    IT       0.0          0.0          0.20   \n",
              "2     1.0          KW  lowerlevel    IT       0.0          0.0          0.10   \n",
              "3     1.0          KW  lowerlevel    IT       0.0          0.0          0.30   \n",
              "4     1.0          KW  lowerlevel    IT       0.0          0.0          0.40   \n",
              "\n",
              "   Visited_Resources  Checked_Announcements  Participation  \\\n",
              "0           0.161616               0.020408       0.193878   \n",
              "1           0.202020               0.030612       0.244898   \n",
              "2           0.070707               0.000000       0.295918   \n",
              "3           0.252525               0.051020       0.346939   \n",
              "4           0.505051               0.122449       0.500000   \n",
              "\n",
              "   Parent_Answering_Survey  Parent_School_Satisfaction  Absence_Days  \\\n",
              "0                      1.0                         1.0           1.0   \n",
              "1                      1.0                         1.0           1.0   \n",
              "2                      0.0                         0.0           0.0   \n",
              "3                      0.0                         0.0           0.0   \n",
              "4                      0.0                         0.0           0.0   \n",
              "\n",
              "  Reached_Level  \n",
              "0        Middle  \n",
              "1        Middle  \n",
              "2           Low  \n",
              "3           Low  \n",
              "4        Middle  "
            ],
            "text/html": [
              "\n",
              "  <div id=\"df-93768769-0b53-4fd2-a2b5-8938eff6da88\">\n",
              "    <div class=\"colab-df-container\">\n",
              "      <div>\n",
              "<style scoped>\n",
              "    .dataframe tbody tr th:only-of-type {\n",
              "        vertical-align: middle;\n",
              "    }\n",
              "\n",
              "    .dataframe tbody tr th {\n",
              "        vertical-align: top;\n",
              "    }\n",
              "\n",
              "    .dataframe thead th {\n",
              "        text-align: right;\n",
              "    }\n",
              "</style>\n",
              "<table border=\"1\" class=\"dataframe\">\n",
              "  <thead>\n",
              "    <tr style=\"text-align: right;\">\n",
              "      <th></th>\n",
              "      <th>Gender</th>\n",
              "      <th>Nationality</th>\n",
              "      <th>Stage</th>\n",
              "      <th>Topic</th>\n",
              "      <th>Semester</th>\n",
              "      <th>Responsible</th>\n",
              "      <th>Raised_Hands</th>\n",
              "      <th>Visited_Resources</th>\n",
              "      <th>Checked_Announcements</th>\n",
              "      <th>Participation</th>\n",
              "      <th>Parent_Answering_Survey</th>\n",
              "      <th>Parent_School_Satisfaction</th>\n",
              "      <th>Absence_Days</th>\n",
              "      <th>Reached_Level</th>\n",
              "    </tr>\n",
              "  </thead>\n",
              "  <tbody>\n",
              "    <tr>\n",
              "      <th>0</th>\n",
              "      <td>1.0</td>\n",
              "      <td>KW</td>\n",
              "      <td>lowerlevel</td>\n",
              "      <td>IT</td>\n",
              "      <td>0.0</td>\n",
              "      <td>0.0</td>\n",
              "      <td>0.15</td>\n",
              "      <td>0.161616</td>\n",
              "      <td>0.020408</td>\n",
              "      <td>0.193878</td>\n",
              "      <td>1.0</td>\n",
              "      <td>1.0</td>\n",
              "      <td>1.0</td>\n",
              "      <td>Middle</td>\n",
              "    </tr>\n",
              "    <tr>\n",
              "      <th>1</th>\n",
              "      <td>1.0</td>\n",
              "      <td>KW</td>\n",
              "      <td>lowerlevel</td>\n",
              "      <td>IT</td>\n",
              "      <td>0.0</td>\n",
              "      <td>0.0</td>\n",
              "      <td>0.20</td>\n",
              "      <td>0.202020</td>\n",
              "      <td>0.030612</td>\n",
              "      <td>0.244898</td>\n",
              "      <td>1.0</td>\n",
              "      <td>1.0</td>\n",
              "      <td>1.0</td>\n",
              "      <td>Middle</td>\n",
              "    </tr>\n",
              "    <tr>\n",
              "      <th>2</th>\n",
              "      <td>1.0</td>\n",
              "      <td>KW</td>\n",
              "      <td>lowerlevel</td>\n",
              "      <td>IT</td>\n",
              "      <td>0.0</td>\n",
              "      <td>0.0</td>\n",
              "      <td>0.10</td>\n",
              "      <td>0.070707</td>\n",
              "      <td>0.000000</td>\n",
              "      <td>0.295918</td>\n",
              "      <td>0.0</td>\n",
              "      <td>0.0</td>\n",
              "      <td>0.0</td>\n",
              "      <td>Low</td>\n",
              "    </tr>\n",
              "    <tr>\n",
              "      <th>3</th>\n",
              "      <td>1.0</td>\n",
              "      <td>KW</td>\n",
              "      <td>lowerlevel</td>\n",
              "      <td>IT</td>\n",
              "      <td>0.0</td>\n",
              "      <td>0.0</td>\n",
              "      <td>0.30</td>\n",
              "      <td>0.252525</td>\n",
              "      <td>0.051020</td>\n",
              "      <td>0.346939</td>\n",
              "      <td>0.0</td>\n",
              "      <td>0.0</td>\n",
              "      <td>0.0</td>\n",
              "      <td>Low</td>\n",
              "    </tr>\n",
              "    <tr>\n",
              "      <th>4</th>\n",
              "      <td>1.0</td>\n",
              "      <td>KW</td>\n",
              "      <td>lowerlevel</td>\n",
              "      <td>IT</td>\n",
              "      <td>0.0</td>\n",
              "      <td>0.0</td>\n",
              "      <td>0.40</td>\n",
              "      <td>0.505051</td>\n",
              "      <td>0.122449</td>\n",
              "      <td>0.500000</td>\n",
              "      <td>0.0</td>\n",
              "      <td>0.0</td>\n",
              "      <td>0.0</td>\n",
              "      <td>Middle</td>\n",
              "    </tr>\n",
              "  </tbody>\n",
              "</table>\n",
              "</div>\n",
              "      <button class=\"colab-df-convert\" onclick=\"convertToInteractive('df-93768769-0b53-4fd2-a2b5-8938eff6da88')\"\n",
              "              title=\"Convert this dataframe to an interactive table.\"\n",
              "              style=\"display:none;\">\n",
              "        \n",
              "  <svg xmlns=\"http://www.w3.org/2000/svg\" height=\"24px\"viewBox=\"0 0 24 24\"\n",
              "       width=\"24px\">\n",
              "    <path d=\"M0 0h24v24H0V0z\" fill=\"none\"/>\n",
              "    <path d=\"M18.56 5.44l.94 2.06.94-2.06 2.06-.94-2.06-.94-.94-2.06-.94 2.06-2.06.94zm-11 1L8.5 8.5l.94-2.06 2.06-.94-2.06-.94L8.5 2.5l-.94 2.06-2.06.94zm10 10l.94 2.06.94-2.06 2.06-.94-2.06-.94-.94-2.06-.94 2.06-2.06.94z\"/><path d=\"M17.41 7.96l-1.37-1.37c-.4-.4-.92-.59-1.43-.59-.52 0-1.04.2-1.43.59L10.3 9.45l-7.72 7.72c-.78.78-.78 2.05 0 2.83L4 21.41c.39.39.9.59 1.41.59.51 0 1.02-.2 1.41-.59l7.78-7.78 2.81-2.81c.8-.78.8-2.07 0-2.86zM5.41 20L4 18.59l7.72-7.72 1.47 1.35L5.41 20z\"/>\n",
              "  </svg>\n",
              "      </button>\n",
              "      \n",
              "  <style>\n",
              "    .colab-df-container {\n",
              "      display:flex;\n",
              "      flex-wrap:wrap;\n",
              "      gap: 12px;\n",
              "    }\n",
              "\n",
              "    .colab-df-convert {\n",
              "      background-color: #E8F0FE;\n",
              "      border: none;\n",
              "      border-radius: 50%;\n",
              "      cursor: pointer;\n",
              "      display: none;\n",
              "      fill: #1967D2;\n",
              "      height: 32px;\n",
              "      padding: 0 0 0 0;\n",
              "      width: 32px;\n",
              "    }\n",
              "\n",
              "    .colab-df-convert:hover {\n",
              "      background-color: #E2EBFA;\n",
              "      box-shadow: 0px 1px 2px rgba(60, 64, 67, 0.3), 0px 1px 3px 1px rgba(60, 64, 67, 0.15);\n",
              "      fill: #174EA6;\n",
              "    }\n",
              "\n",
              "    [theme=dark] .colab-df-convert {\n",
              "      background-color: #3B4455;\n",
              "      fill: #D2E3FC;\n",
              "    }\n",
              "\n",
              "    [theme=dark] .colab-df-convert:hover {\n",
              "      background-color: #434B5C;\n",
              "      box-shadow: 0px 1px 3px 1px rgba(0, 0, 0, 0.15);\n",
              "      filter: drop-shadow(0px 1px 2px rgba(0, 0, 0, 0.3));\n",
              "      fill: #FFFFFF;\n",
              "    }\n",
              "  </style>\n",
              "\n",
              "      <script>\n",
              "        const buttonEl =\n",
              "          document.querySelector('#df-93768769-0b53-4fd2-a2b5-8938eff6da88 button.colab-df-convert');\n",
              "        buttonEl.style.display =\n",
              "          google.colab.kernel.accessAllowed ? 'block' : 'none';\n",
              "\n",
              "        async function convertToInteractive(key) {\n",
              "          const element = document.querySelector('#df-93768769-0b53-4fd2-a2b5-8938eff6da88');\n",
              "          const dataTable =\n",
              "            await google.colab.kernel.invokeFunction('convertToInteractive',\n",
              "                                                     [key], {});\n",
              "          if (!dataTable) return;\n",
              "\n",
              "          const docLinkHtml = 'Like what you see? Visit the ' +\n",
              "            '<a target=\"_blank\" href=https://colab.research.google.com/notebooks/data_table.ipynb>data table notebook</a>'\n",
              "            + ' to learn more about interactive tables.';\n",
              "          element.innerHTML = '';\n",
              "          dataTable['output_type'] = 'display_data';\n",
              "          await google.colab.output.renderOutput(dataTable, element);\n",
              "          const docLink = document.createElement('div');\n",
              "          docLink.innerHTML = docLinkHtml;\n",
              "          element.appendChild(docLink);\n",
              "        }\n",
              "      </script>\n",
              "    </div>\n",
              "  </div>\n",
              "  "
            ]
          },
          "metadata": {},
          "execution_count": 32
        }
      ]
    },
    {
      "cell_type": "code",
      "source": [
        "students.rename(columns = {\"Absence_Days\": \"Absence_Under_7\"}, inplace = True)\n",
        "students.head()"
      ],
      "metadata": {
        "colab": {
          "base_uri": "https://localhost:8080/",
          "height": 270
        },
        "id": "QJb5Mw3xbjbv",
        "outputId": "2a1dc9aa-9478-4a53-d676-e6902c8dc2dd"
      },
      "execution_count": 33,
      "outputs": [
        {
          "output_type": "execute_result",
          "data": {
            "text/plain": [
              "   Gender Nationality       Stage Topic  Semester  Responsible  Raised_Hands  \\\n",
              "0     1.0          KW  lowerlevel    IT       0.0          0.0          0.15   \n",
              "1     1.0          KW  lowerlevel    IT       0.0          0.0          0.20   \n",
              "2     1.0          KW  lowerlevel    IT       0.0          0.0          0.10   \n",
              "3     1.0          KW  lowerlevel    IT       0.0          0.0          0.30   \n",
              "4     1.0          KW  lowerlevel    IT       0.0          0.0          0.40   \n",
              "\n",
              "   Visited_Resources  Checked_Announcements  Participation  \\\n",
              "0           0.161616               0.020408       0.193878   \n",
              "1           0.202020               0.030612       0.244898   \n",
              "2           0.070707               0.000000       0.295918   \n",
              "3           0.252525               0.051020       0.346939   \n",
              "4           0.505051               0.122449       0.500000   \n",
              "\n",
              "   Parent_Answering_Survey  Parent_School_Satisfaction  Absence_Under_7  \\\n",
              "0                      1.0                         1.0              1.0   \n",
              "1                      1.0                         1.0              1.0   \n",
              "2                      0.0                         0.0              0.0   \n",
              "3                      0.0                         0.0              0.0   \n",
              "4                      0.0                         0.0              0.0   \n",
              "\n",
              "  Reached_Level  \n",
              "0        Middle  \n",
              "1        Middle  \n",
              "2           Low  \n",
              "3           Low  \n",
              "4        Middle  "
            ],
            "text/html": [
              "\n",
              "  <div id=\"df-f62ffc61-da73-4eaa-865b-4b954a5535b2\">\n",
              "    <div class=\"colab-df-container\">\n",
              "      <div>\n",
              "<style scoped>\n",
              "    .dataframe tbody tr th:only-of-type {\n",
              "        vertical-align: middle;\n",
              "    }\n",
              "\n",
              "    .dataframe tbody tr th {\n",
              "        vertical-align: top;\n",
              "    }\n",
              "\n",
              "    .dataframe thead th {\n",
              "        text-align: right;\n",
              "    }\n",
              "</style>\n",
              "<table border=\"1\" class=\"dataframe\">\n",
              "  <thead>\n",
              "    <tr style=\"text-align: right;\">\n",
              "      <th></th>\n",
              "      <th>Gender</th>\n",
              "      <th>Nationality</th>\n",
              "      <th>Stage</th>\n",
              "      <th>Topic</th>\n",
              "      <th>Semester</th>\n",
              "      <th>Responsible</th>\n",
              "      <th>Raised_Hands</th>\n",
              "      <th>Visited_Resources</th>\n",
              "      <th>Checked_Announcements</th>\n",
              "      <th>Participation</th>\n",
              "      <th>Parent_Answering_Survey</th>\n",
              "      <th>Parent_School_Satisfaction</th>\n",
              "      <th>Absence_Under_7</th>\n",
              "      <th>Reached_Level</th>\n",
              "    </tr>\n",
              "  </thead>\n",
              "  <tbody>\n",
              "    <tr>\n",
              "      <th>0</th>\n",
              "      <td>1.0</td>\n",
              "      <td>KW</td>\n",
              "      <td>lowerlevel</td>\n",
              "      <td>IT</td>\n",
              "      <td>0.0</td>\n",
              "      <td>0.0</td>\n",
              "      <td>0.15</td>\n",
              "      <td>0.161616</td>\n",
              "      <td>0.020408</td>\n",
              "      <td>0.193878</td>\n",
              "      <td>1.0</td>\n",
              "      <td>1.0</td>\n",
              "      <td>1.0</td>\n",
              "      <td>Middle</td>\n",
              "    </tr>\n",
              "    <tr>\n",
              "      <th>1</th>\n",
              "      <td>1.0</td>\n",
              "      <td>KW</td>\n",
              "      <td>lowerlevel</td>\n",
              "      <td>IT</td>\n",
              "      <td>0.0</td>\n",
              "      <td>0.0</td>\n",
              "      <td>0.20</td>\n",
              "      <td>0.202020</td>\n",
              "      <td>0.030612</td>\n",
              "      <td>0.244898</td>\n",
              "      <td>1.0</td>\n",
              "      <td>1.0</td>\n",
              "      <td>1.0</td>\n",
              "      <td>Middle</td>\n",
              "    </tr>\n",
              "    <tr>\n",
              "      <th>2</th>\n",
              "      <td>1.0</td>\n",
              "      <td>KW</td>\n",
              "      <td>lowerlevel</td>\n",
              "      <td>IT</td>\n",
              "      <td>0.0</td>\n",
              "      <td>0.0</td>\n",
              "      <td>0.10</td>\n",
              "      <td>0.070707</td>\n",
              "      <td>0.000000</td>\n",
              "      <td>0.295918</td>\n",
              "      <td>0.0</td>\n",
              "      <td>0.0</td>\n",
              "      <td>0.0</td>\n",
              "      <td>Low</td>\n",
              "    </tr>\n",
              "    <tr>\n",
              "      <th>3</th>\n",
              "      <td>1.0</td>\n",
              "      <td>KW</td>\n",
              "      <td>lowerlevel</td>\n",
              "      <td>IT</td>\n",
              "      <td>0.0</td>\n",
              "      <td>0.0</td>\n",
              "      <td>0.30</td>\n",
              "      <td>0.252525</td>\n",
              "      <td>0.051020</td>\n",
              "      <td>0.346939</td>\n",
              "      <td>0.0</td>\n",
              "      <td>0.0</td>\n",
              "      <td>0.0</td>\n",
              "      <td>Low</td>\n",
              "    </tr>\n",
              "    <tr>\n",
              "      <th>4</th>\n",
              "      <td>1.0</td>\n",
              "      <td>KW</td>\n",
              "      <td>lowerlevel</td>\n",
              "      <td>IT</td>\n",
              "      <td>0.0</td>\n",
              "      <td>0.0</td>\n",
              "      <td>0.40</td>\n",
              "      <td>0.505051</td>\n",
              "      <td>0.122449</td>\n",
              "      <td>0.500000</td>\n",
              "      <td>0.0</td>\n",
              "      <td>0.0</td>\n",
              "      <td>0.0</td>\n",
              "      <td>Middle</td>\n",
              "    </tr>\n",
              "  </tbody>\n",
              "</table>\n",
              "</div>\n",
              "      <button class=\"colab-df-convert\" onclick=\"convertToInteractive('df-f62ffc61-da73-4eaa-865b-4b954a5535b2')\"\n",
              "              title=\"Convert this dataframe to an interactive table.\"\n",
              "              style=\"display:none;\">\n",
              "        \n",
              "  <svg xmlns=\"http://www.w3.org/2000/svg\" height=\"24px\"viewBox=\"0 0 24 24\"\n",
              "       width=\"24px\">\n",
              "    <path d=\"M0 0h24v24H0V0z\" fill=\"none\"/>\n",
              "    <path d=\"M18.56 5.44l.94 2.06.94-2.06 2.06-.94-2.06-.94-.94-2.06-.94 2.06-2.06.94zm-11 1L8.5 8.5l.94-2.06 2.06-.94-2.06-.94L8.5 2.5l-.94 2.06-2.06.94zm10 10l.94 2.06.94-2.06 2.06-.94-2.06-.94-.94-2.06-.94 2.06-2.06.94z\"/><path d=\"M17.41 7.96l-1.37-1.37c-.4-.4-.92-.59-1.43-.59-.52 0-1.04.2-1.43.59L10.3 9.45l-7.72 7.72c-.78.78-.78 2.05 0 2.83L4 21.41c.39.39.9.59 1.41.59.51 0 1.02-.2 1.41-.59l7.78-7.78 2.81-2.81c.8-.78.8-2.07 0-2.86zM5.41 20L4 18.59l7.72-7.72 1.47 1.35L5.41 20z\"/>\n",
              "  </svg>\n",
              "      </button>\n",
              "      \n",
              "  <style>\n",
              "    .colab-df-container {\n",
              "      display:flex;\n",
              "      flex-wrap:wrap;\n",
              "      gap: 12px;\n",
              "    }\n",
              "\n",
              "    .colab-df-convert {\n",
              "      background-color: #E8F0FE;\n",
              "      border: none;\n",
              "      border-radius: 50%;\n",
              "      cursor: pointer;\n",
              "      display: none;\n",
              "      fill: #1967D2;\n",
              "      height: 32px;\n",
              "      padding: 0 0 0 0;\n",
              "      width: 32px;\n",
              "    }\n",
              "\n",
              "    .colab-df-convert:hover {\n",
              "      background-color: #E2EBFA;\n",
              "      box-shadow: 0px 1px 2px rgba(60, 64, 67, 0.3), 0px 1px 3px 1px rgba(60, 64, 67, 0.15);\n",
              "      fill: #174EA6;\n",
              "    }\n",
              "\n",
              "    [theme=dark] .colab-df-convert {\n",
              "      background-color: #3B4455;\n",
              "      fill: #D2E3FC;\n",
              "    }\n",
              "\n",
              "    [theme=dark] .colab-df-convert:hover {\n",
              "      background-color: #434B5C;\n",
              "      box-shadow: 0px 1px 3px 1px rgba(0, 0, 0, 0.15);\n",
              "      filter: drop-shadow(0px 1px 2px rgba(0, 0, 0, 0.3));\n",
              "      fill: #FFFFFF;\n",
              "    }\n",
              "  </style>\n",
              "\n",
              "      <script>\n",
              "        const buttonEl =\n",
              "          document.querySelector('#df-f62ffc61-da73-4eaa-865b-4b954a5535b2 button.colab-df-convert');\n",
              "        buttonEl.style.display =\n",
              "          google.colab.kernel.accessAllowed ? 'block' : 'none';\n",
              "\n",
              "        async function convertToInteractive(key) {\n",
              "          const element = document.querySelector('#df-f62ffc61-da73-4eaa-865b-4b954a5535b2');\n",
              "          const dataTable =\n",
              "            await google.colab.kernel.invokeFunction('convertToInteractive',\n",
              "                                                     [key], {});\n",
              "          if (!dataTable) return;\n",
              "\n",
              "          const docLinkHtml = 'Like what you see? Visit the ' +\n",
              "            '<a target=\"_blank\" href=https://colab.research.google.com/notebooks/data_table.ipynb>data table notebook</a>'\n",
              "            + ' to learn more about interactive tables.';\n",
              "          element.innerHTML = '';\n",
              "          dataTable['output_type'] = 'display_data';\n",
              "          await google.colab.output.renderOutput(dataTable, element);\n",
              "          const docLink = document.createElement('div');\n",
              "          docLink.innerHTML = docLinkHtml;\n",
              "          element.appendChild(docLink);\n",
              "        }\n",
              "      </script>\n",
              "    </div>\n",
              "  </div>\n",
              "  "
            ]
          },
          "metadata": {},
          "execution_count": 33
        }
      ]
    },
    {
      "cell_type": "markdown",
      "source": [
        "**Categoricas multi**\n",
        "\n"
      ],
      "metadata": {
        "id": "21EatAIkcEN8"
      }
    },
    {
      "cell_type": "code",
      "source": [
        "from sklearn.preprocessing import OneHotEncoder\n",
        "\n",
        "ohe = OneHotEncoder(sparse=False)\n",
        "ohe.fit(students[['Nationality']])\n",
        "display(ohe.categories_)\n",
        "display(ohe.get_feature_names_out())\n",
        "nationality_encoded = ohe.transform(students[['Nationality']])\n",
        "\n",
        "students[ohe.get_feature_names_out()] = nationality_encoded\n",
        "\n",
        "\n",
        "students.drop(columns='Nationality', inplace = True)\n",
        "\n"
      ],
      "metadata": {
        "colab": {
          "base_uri": "https://localhost:8080/",
          "height": 173
        },
        "id": "WDwTDqCqcOKI",
        "outputId": "7173a5c5-819c-4013-8e4f-94a9c1ba4552"
      },
      "execution_count": 34,
      "outputs": [
        {
          "output_type": "display_data",
          "data": {
            "text/plain": [
              "[array(['Egypt', 'Iran', 'Iraq', 'Jordan', 'KW', 'Lybia', 'Morocco',\n",
              "        'Palestine', 'SaudiArabia', 'Syria', 'Tunis', 'USA', 'lebanon',\n",
              "        'venzuela'], dtype=object)]"
            ]
          },
          "metadata": {}
        },
        {
          "output_type": "display_data",
          "data": {
            "text/plain": [
              "array(['Nationality_Egypt', 'Nationality_Iran', 'Nationality_Iraq',\n",
              "       'Nationality_Jordan', 'Nationality_KW', 'Nationality_Lybia',\n",
              "       'Nationality_Morocco', 'Nationality_Palestine',\n",
              "       'Nationality_SaudiArabia', 'Nationality_Syria',\n",
              "       'Nationality_Tunis', 'Nationality_USA', 'Nationality_lebanon',\n",
              "       'Nationality_venzuela'], dtype=object)"
            ]
          },
          "metadata": {}
        }
      ]
    },
    {
      "cell_type": "code",
      "source": [
        "from sklearn.preprocessing import OneHotEncoder\n",
        "\n",
        "ohe = OneHotEncoder(sparse=False)\n",
        "ohe.fit(students[['Stage']])\n",
        "display(ohe.categories_)\n",
        "display(ohe.get_feature_names_out())\n",
        "stage_encoded = ohe.transform(students[['Stage']])\n",
        "\n",
        "students[ohe.get_feature_names_out()] = stage_encoded\n",
        "\n",
        "\n",
        "students.drop(columns='Stage', inplace = True)\n"
      ],
      "metadata": {
        "colab": {
          "base_uri": "https://localhost:8080/",
          "height": 69
        },
        "id": "AmR-JwnUdfJJ",
        "outputId": "4c7f7a56-e65f-40e9-ea51-04125efa8f17"
      },
      "execution_count": 35,
      "outputs": [
        {
          "output_type": "display_data",
          "data": {
            "text/plain": [
              "[array(['HighSchool', 'MiddleSchool', 'lowerlevel'], dtype=object)]"
            ]
          },
          "metadata": {}
        },
        {
          "output_type": "display_data",
          "data": {
            "text/plain": [
              "array(['Stage_HighSchool', 'Stage_MiddleSchool', 'Stage_lowerlevel'],\n",
              "      dtype=object)"
            ]
          },
          "metadata": {}
        }
      ]
    },
    {
      "cell_type": "code",
      "source": [
        "from sklearn.preprocessing import OneHotEncoder\n",
        "\n",
        "ohe = OneHotEncoder(sparse=False)\n",
        "ohe.fit(students[['Topic']])\n",
        "display(ohe.categories_)\n",
        "display(ohe.get_feature_names_out())\n",
        "topic_encoded = ohe.transform(students[['Topic']])\n",
        "\n",
        "students[ohe.get_feature_names_out()] = topic_encoded\n",
        "\n",
        "\n",
        "students.drop(columns='Topic', inplace = True)\n",
        "students"
      ],
      "metadata": {
        "colab": {
          "base_uri": "https://localhost:8080/",
          "height": 609
        },
        "id": "4BGakx6NeWhe",
        "outputId": "1835e854-601e-473e-af05-16a0158a9c6a"
      },
      "execution_count": 36,
      "outputs": [
        {
          "output_type": "display_data",
          "data": {
            "text/plain": [
              "[array(['Arabic', 'Biology', 'Chemistry', 'English', 'French', 'Geology',\n",
              "        'History', 'IT', 'Math', 'Quran', 'Science', 'Spanish'],\n",
              "       dtype=object)]"
            ]
          },
          "metadata": {}
        },
        {
          "output_type": "display_data",
          "data": {
            "text/plain": [
              "array(['Topic_Arabic', 'Topic_Biology', 'Topic_Chemistry',\n",
              "       'Topic_English', 'Topic_French', 'Topic_Geology', 'Topic_History',\n",
              "       'Topic_IT', 'Topic_Math', 'Topic_Quran', 'Topic_Science',\n",
              "       'Topic_Spanish'], dtype=object)"
            ]
          },
          "metadata": {}
        },
        {
          "output_type": "execute_result",
          "data": {
            "text/plain": [
              "     Gender  Semester  Responsible  Raised_Hands  Visited_Resources  \\\n",
              "0       1.0       0.0          0.0          0.15           0.161616   \n",
              "1       1.0       0.0          0.0          0.20           0.202020   \n",
              "2       1.0       0.0          0.0          0.10           0.070707   \n",
              "3       1.0       0.0          0.0          0.30           0.252525   \n",
              "4       1.0       0.0          0.0          0.40           0.505051   \n",
              "..      ...       ...          ...           ...                ...   \n",
              "475     0.0       1.0          0.0          0.05           0.040404   \n",
              "476     0.0       0.0          0.0          0.50           0.777778   \n",
              "477     0.0       1.0          0.0          0.55           0.747475   \n",
              "478     0.0       0.0          0.0          0.30           0.171717   \n",
              "479     0.0       1.0          0.0          0.35           0.141414   \n",
              "\n",
              "     Checked_Announcements  Participation  Parent_Answering_Survey  \\\n",
              "0                 0.020408       0.193878                      1.0   \n",
              "1                 0.030612       0.244898                      1.0   \n",
              "2                 0.000000       0.295918                      0.0   \n",
              "3                 0.051020       0.346939                      0.0   \n",
              "4                 0.122449       0.500000                      0.0   \n",
              "..                     ...            ...                      ...   \n",
              "475               0.051020       0.071429                      0.0   \n",
              "476               0.142857       0.275510                      0.0   \n",
              "477               0.255102       0.285714                      0.0   \n",
              "478               0.142857       0.571429                      0.0   \n",
              "479               0.234694       0.622449                      0.0   \n",
              "\n",
              "     Parent_School_Satisfaction  Absence_Under_7  ... Topic_Chemistry  \\\n",
              "0                           1.0              1.0  ...             0.0   \n",
              "1                           1.0              1.0  ...             0.0   \n",
              "2                           0.0              0.0  ...             0.0   \n",
              "3                           0.0              0.0  ...             0.0   \n",
              "4                           0.0              0.0  ...             0.0   \n",
              "..                          ...              ...  ...             ...   \n",
              "475                         0.0              0.0  ...             1.0   \n",
              "476                         0.0              1.0  ...             0.0   \n",
              "477                         0.0              1.0  ...             0.0   \n",
              "478                         0.0              0.0  ...             0.0   \n",
              "479                         0.0              0.0  ...             0.0   \n",
              "\n",
              "     Topic_English  Topic_French  Topic_Geology  Topic_History  Topic_IT  \\\n",
              "0              0.0           0.0            0.0            0.0       1.0   \n",
              "1              0.0           0.0            0.0            0.0       1.0   \n",
              "2              0.0           0.0            0.0            0.0       1.0   \n",
              "3              0.0           0.0            0.0            0.0       1.0   \n",
              "4              0.0           0.0            0.0            0.0       1.0   \n",
              "..             ...           ...            ...            ...       ...   \n",
              "475            0.0           0.0            0.0            0.0       0.0   \n",
              "476            0.0           0.0            1.0            0.0       0.0   \n",
              "477            0.0           0.0            1.0            0.0       0.0   \n",
              "478            0.0           0.0            0.0            1.0       0.0   \n",
              "479            0.0           0.0            0.0            1.0       0.0   \n",
              "\n",
              "     Topic_Math  Topic_Quran  Topic_Science  Topic_Spanish  \n",
              "0           0.0          0.0            0.0            0.0  \n",
              "1           0.0          0.0            0.0            0.0  \n",
              "2           0.0          0.0            0.0            0.0  \n",
              "3           0.0          0.0            0.0            0.0  \n",
              "4           0.0          0.0            0.0            0.0  \n",
              "..          ...          ...            ...            ...  \n",
              "475         0.0          0.0            0.0            0.0  \n",
              "476         0.0          0.0            0.0            0.0  \n",
              "477         0.0          0.0            0.0            0.0  \n",
              "478         0.0          0.0            0.0            0.0  \n",
              "479         0.0          0.0            0.0            0.0  \n",
              "\n",
              "[478 rows x 40 columns]"
            ],
            "text/html": [
              "\n",
              "  <div id=\"df-f71d9fba-0b89-455e-9da4-1b3d610a3239\">\n",
              "    <div class=\"colab-df-container\">\n",
              "      <div>\n",
              "<style scoped>\n",
              "    .dataframe tbody tr th:only-of-type {\n",
              "        vertical-align: middle;\n",
              "    }\n",
              "\n",
              "    .dataframe tbody tr th {\n",
              "        vertical-align: top;\n",
              "    }\n",
              "\n",
              "    .dataframe thead th {\n",
              "        text-align: right;\n",
              "    }\n",
              "</style>\n",
              "<table border=\"1\" class=\"dataframe\">\n",
              "  <thead>\n",
              "    <tr style=\"text-align: right;\">\n",
              "      <th></th>\n",
              "      <th>Gender</th>\n",
              "      <th>Semester</th>\n",
              "      <th>Responsible</th>\n",
              "      <th>Raised_Hands</th>\n",
              "      <th>Visited_Resources</th>\n",
              "      <th>Checked_Announcements</th>\n",
              "      <th>Participation</th>\n",
              "      <th>Parent_Answering_Survey</th>\n",
              "      <th>Parent_School_Satisfaction</th>\n",
              "      <th>Absence_Under_7</th>\n",
              "      <th>...</th>\n",
              "      <th>Topic_Chemistry</th>\n",
              "      <th>Topic_English</th>\n",
              "      <th>Topic_French</th>\n",
              "      <th>Topic_Geology</th>\n",
              "      <th>Topic_History</th>\n",
              "      <th>Topic_IT</th>\n",
              "      <th>Topic_Math</th>\n",
              "      <th>Topic_Quran</th>\n",
              "      <th>Topic_Science</th>\n",
              "      <th>Topic_Spanish</th>\n",
              "    </tr>\n",
              "  </thead>\n",
              "  <tbody>\n",
              "    <tr>\n",
              "      <th>0</th>\n",
              "      <td>1.0</td>\n",
              "      <td>0.0</td>\n",
              "      <td>0.0</td>\n",
              "      <td>0.15</td>\n",
              "      <td>0.161616</td>\n",
              "      <td>0.020408</td>\n",
              "      <td>0.193878</td>\n",
              "      <td>1.0</td>\n",
              "      <td>1.0</td>\n",
              "      <td>1.0</td>\n",
              "      <td>...</td>\n",
              "      <td>0.0</td>\n",
              "      <td>0.0</td>\n",
              "      <td>0.0</td>\n",
              "      <td>0.0</td>\n",
              "      <td>0.0</td>\n",
              "      <td>1.0</td>\n",
              "      <td>0.0</td>\n",
              "      <td>0.0</td>\n",
              "      <td>0.0</td>\n",
              "      <td>0.0</td>\n",
              "    </tr>\n",
              "    <tr>\n",
              "      <th>1</th>\n",
              "      <td>1.0</td>\n",
              "      <td>0.0</td>\n",
              "      <td>0.0</td>\n",
              "      <td>0.20</td>\n",
              "      <td>0.202020</td>\n",
              "      <td>0.030612</td>\n",
              "      <td>0.244898</td>\n",
              "      <td>1.0</td>\n",
              "      <td>1.0</td>\n",
              "      <td>1.0</td>\n",
              "      <td>...</td>\n",
              "      <td>0.0</td>\n",
              "      <td>0.0</td>\n",
              "      <td>0.0</td>\n",
              "      <td>0.0</td>\n",
              "      <td>0.0</td>\n",
              "      <td>1.0</td>\n",
              "      <td>0.0</td>\n",
              "      <td>0.0</td>\n",
              "      <td>0.0</td>\n",
              "      <td>0.0</td>\n",
              "    </tr>\n",
              "    <tr>\n",
              "      <th>2</th>\n",
              "      <td>1.0</td>\n",
              "      <td>0.0</td>\n",
              "      <td>0.0</td>\n",
              "      <td>0.10</td>\n",
              "      <td>0.070707</td>\n",
              "      <td>0.000000</td>\n",
              "      <td>0.295918</td>\n",
              "      <td>0.0</td>\n",
              "      <td>0.0</td>\n",
              "      <td>0.0</td>\n",
              "      <td>...</td>\n",
              "      <td>0.0</td>\n",
              "      <td>0.0</td>\n",
              "      <td>0.0</td>\n",
              "      <td>0.0</td>\n",
              "      <td>0.0</td>\n",
              "      <td>1.0</td>\n",
              "      <td>0.0</td>\n",
              "      <td>0.0</td>\n",
              "      <td>0.0</td>\n",
              "      <td>0.0</td>\n",
              "    </tr>\n",
              "    <tr>\n",
              "      <th>3</th>\n",
              "      <td>1.0</td>\n",
              "      <td>0.0</td>\n",
              "      <td>0.0</td>\n",
              "      <td>0.30</td>\n",
              "      <td>0.252525</td>\n",
              "      <td>0.051020</td>\n",
              "      <td>0.346939</td>\n",
              "      <td>0.0</td>\n",
              "      <td>0.0</td>\n",
              "      <td>0.0</td>\n",
              "      <td>...</td>\n",
              "      <td>0.0</td>\n",
              "      <td>0.0</td>\n",
              "      <td>0.0</td>\n",
              "      <td>0.0</td>\n",
              "      <td>0.0</td>\n",
              "      <td>1.0</td>\n",
              "      <td>0.0</td>\n",
              "      <td>0.0</td>\n",
              "      <td>0.0</td>\n",
              "      <td>0.0</td>\n",
              "    </tr>\n",
              "    <tr>\n",
              "      <th>4</th>\n",
              "      <td>1.0</td>\n",
              "      <td>0.0</td>\n",
              "      <td>0.0</td>\n",
              "      <td>0.40</td>\n",
              "      <td>0.505051</td>\n",
              "      <td>0.122449</td>\n",
              "      <td>0.500000</td>\n",
              "      <td>0.0</td>\n",
              "      <td>0.0</td>\n",
              "      <td>0.0</td>\n",
              "      <td>...</td>\n",
              "      <td>0.0</td>\n",
              "      <td>0.0</td>\n",
              "      <td>0.0</td>\n",
              "      <td>0.0</td>\n",
              "      <td>0.0</td>\n",
              "      <td>1.0</td>\n",
              "      <td>0.0</td>\n",
              "      <td>0.0</td>\n",
              "      <td>0.0</td>\n",
              "      <td>0.0</td>\n",
              "    </tr>\n",
              "    <tr>\n",
              "      <th>...</th>\n",
              "      <td>...</td>\n",
              "      <td>...</td>\n",
              "      <td>...</td>\n",
              "      <td>...</td>\n",
              "      <td>...</td>\n",
              "      <td>...</td>\n",
              "      <td>...</td>\n",
              "      <td>...</td>\n",
              "      <td>...</td>\n",
              "      <td>...</td>\n",
              "      <td>...</td>\n",
              "      <td>...</td>\n",
              "      <td>...</td>\n",
              "      <td>...</td>\n",
              "      <td>...</td>\n",
              "      <td>...</td>\n",
              "      <td>...</td>\n",
              "      <td>...</td>\n",
              "      <td>...</td>\n",
              "      <td>...</td>\n",
              "      <td>...</td>\n",
              "    </tr>\n",
              "    <tr>\n",
              "      <th>475</th>\n",
              "      <td>0.0</td>\n",
              "      <td>1.0</td>\n",
              "      <td>0.0</td>\n",
              "      <td>0.05</td>\n",
              "      <td>0.040404</td>\n",
              "      <td>0.051020</td>\n",
              "      <td>0.071429</td>\n",
              "      <td>0.0</td>\n",
              "      <td>0.0</td>\n",
              "      <td>0.0</td>\n",
              "      <td>...</td>\n",
              "      <td>1.0</td>\n",
              "      <td>0.0</td>\n",
              "      <td>0.0</td>\n",
              "      <td>0.0</td>\n",
              "      <td>0.0</td>\n",
              "      <td>0.0</td>\n",
              "      <td>0.0</td>\n",
              "      <td>0.0</td>\n",
              "      <td>0.0</td>\n",
              "      <td>0.0</td>\n",
              "    </tr>\n",
              "    <tr>\n",
              "      <th>476</th>\n",
              "      <td>0.0</td>\n",
              "      <td>0.0</td>\n",
              "      <td>0.0</td>\n",
              "      <td>0.50</td>\n",
              "      <td>0.777778</td>\n",
              "      <td>0.142857</td>\n",
              "      <td>0.275510</td>\n",
              "      <td>0.0</td>\n",
              "      <td>0.0</td>\n",
              "      <td>1.0</td>\n",
              "      <td>...</td>\n",
              "      <td>0.0</td>\n",
              "      <td>0.0</td>\n",
              "      <td>0.0</td>\n",
              "      <td>1.0</td>\n",
              "      <td>0.0</td>\n",
              "      <td>0.0</td>\n",
              "      <td>0.0</td>\n",
              "      <td>0.0</td>\n",
              "      <td>0.0</td>\n",
              "      <td>0.0</td>\n",
              "    </tr>\n",
              "    <tr>\n",
              "      <th>477</th>\n",
              "      <td>0.0</td>\n",
              "      <td>1.0</td>\n",
              "      <td>0.0</td>\n",
              "      <td>0.55</td>\n",
              "      <td>0.747475</td>\n",
              "      <td>0.255102</td>\n",
              "      <td>0.285714</td>\n",
              "      <td>0.0</td>\n",
              "      <td>0.0</td>\n",
              "      <td>1.0</td>\n",
              "      <td>...</td>\n",
              "      <td>0.0</td>\n",
              "      <td>0.0</td>\n",
              "      <td>0.0</td>\n",
              "      <td>1.0</td>\n",
              "      <td>0.0</td>\n",
              "      <td>0.0</td>\n",
              "      <td>0.0</td>\n",
              "      <td>0.0</td>\n",
              "      <td>0.0</td>\n",
              "      <td>0.0</td>\n",
              "    </tr>\n",
              "    <tr>\n",
              "      <th>478</th>\n",
              "      <td>0.0</td>\n",
              "      <td>0.0</td>\n",
              "      <td>0.0</td>\n",
              "      <td>0.30</td>\n",
              "      <td>0.171717</td>\n",
              "      <td>0.142857</td>\n",
              "      <td>0.571429</td>\n",
              "      <td>0.0</td>\n",
              "      <td>0.0</td>\n",
              "      <td>0.0</td>\n",
              "      <td>...</td>\n",
              "      <td>0.0</td>\n",
              "      <td>0.0</td>\n",
              "      <td>0.0</td>\n",
              "      <td>0.0</td>\n",
              "      <td>1.0</td>\n",
              "      <td>0.0</td>\n",
              "      <td>0.0</td>\n",
              "      <td>0.0</td>\n",
              "      <td>0.0</td>\n",
              "      <td>0.0</td>\n",
              "    </tr>\n",
              "    <tr>\n",
              "      <th>479</th>\n",
              "      <td>0.0</td>\n",
              "      <td>1.0</td>\n",
              "      <td>0.0</td>\n",
              "      <td>0.35</td>\n",
              "      <td>0.141414</td>\n",
              "      <td>0.234694</td>\n",
              "      <td>0.622449</td>\n",
              "      <td>0.0</td>\n",
              "      <td>0.0</td>\n",
              "      <td>0.0</td>\n",
              "      <td>...</td>\n",
              "      <td>0.0</td>\n",
              "      <td>0.0</td>\n",
              "      <td>0.0</td>\n",
              "      <td>0.0</td>\n",
              "      <td>1.0</td>\n",
              "      <td>0.0</td>\n",
              "      <td>0.0</td>\n",
              "      <td>0.0</td>\n",
              "      <td>0.0</td>\n",
              "      <td>0.0</td>\n",
              "    </tr>\n",
              "  </tbody>\n",
              "</table>\n",
              "<p>478 rows × 40 columns</p>\n",
              "</div>\n",
              "      <button class=\"colab-df-convert\" onclick=\"convertToInteractive('df-f71d9fba-0b89-455e-9da4-1b3d610a3239')\"\n",
              "              title=\"Convert this dataframe to an interactive table.\"\n",
              "              style=\"display:none;\">\n",
              "        \n",
              "  <svg xmlns=\"http://www.w3.org/2000/svg\" height=\"24px\"viewBox=\"0 0 24 24\"\n",
              "       width=\"24px\">\n",
              "    <path d=\"M0 0h24v24H0V0z\" fill=\"none\"/>\n",
              "    <path d=\"M18.56 5.44l.94 2.06.94-2.06 2.06-.94-2.06-.94-.94-2.06-.94 2.06-2.06.94zm-11 1L8.5 8.5l.94-2.06 2.06-.94-2.06-.94L8.5 2.5l-.94 2.06-2.06.94zm10 10l.94 2.06.94-2.06 2.06-.94-2.06-.94-.94-2.06-.94 2.06-2.06.94z\"/><path d=\"M17.41 7.96l-1.37-1.37c-.4-.4-.92-.59-1.43-.59-.52 0-1.04.2-1.43.59L10.3 9.45l-7.72 7.72c-.78.78-.78 2.05 0 2.83L4 21.41c.39.39.9.59 1.41.59.51 0 1.02-.2 1.41-.59l7.78-7.78 2.81-2.81c.8-.78.8-2.07 0-2.86zM5.41 20L4 18.59l7.72-7.72 1.47 1.35L5.41 20z\"/>\n",
              "  </svg>\n",
              "      </button>\n",
              "      \n",
              "  <style>\n",
              "    .colab-df-container {\n",
              "      display:flex;\n",
              "      flex-wrap:wrap;\n",
              "      gap: 12px;\n",
              "    }\n",
              "\n",
              "    .colab-df-convert {\n",
              "      background-color: #E8F0FE;\n",
              "      border: none;\n",
              "      border-radius: 50%;\n",
              "      cursor: pointer;\n",
              "      display: none;\n",
              "      fill: #1967D2;\n",
              "      height: 32px;\n",
              "      padding: 0 0 0 0;\n",
              "      width: 32px;\n",
              "    }\n",
              "\n",
              "    .colab-df-convert:hover {\n",
              "      background-color: #E2EBFA;\n",
              "      box-shadow: 0px 1px 2px rgba(60, 64, 67, 0.3), 0px 1px 3px 1px rgba(60, 64, 67, 0.15);\n",
              "      fill: #174EA6;\n",
              "    }\n",
              "\n",
              "    [theme=dark] .colab-df-convert {\n",
              "      background-color: #3B4455;\n",
              "      fill: #D2E3FC;\n",
              "    }\n",
              "\n",
              "    [theme=dark] .colab-df-convert:hover {\n",
              "      background-color: #434B5C;\n",
              "      box-shadow: 0px 1px 3px 1px rgba(0, 0, 0, 0.15);\n",
              "      filter: drop-shadow(0px 1px 2px rgba(0, 0, 0, 0.3));\n",
              "      fill: #FFFFFF;\n",
              "    }\n",
              "  </style>\n",
              "\n",
              "      <script>\n",
              "        const buttonEl =\n",
              "          document.querySelector('#df-f71d9fba-0b89-455e-9da4-1b3d610a3239 button.colab-df-convert');\n",
              "        buttonEl.style.display =\n",
              "          google.colab.kernel.accessAllowed ? 'block' : 'none';\n",
              "\n",
              "        async function convertToInteractive(key) {\n",
              "          const element = document.querySelector('#df-f71d9fba-0b89-455e-9da4-1b3d610a3239');\n",
              "          const dataTable =\n",
              "            await google.colab.kernel.invokeFunction('convertToInteractive',\n",
              "                                                     [key], {});\n",
              "          if (!dataTable) return;\n",
              "\n",
              "          const docLinkHtml = 'Like what you see? Visit the ' +\n",
              "            '<a target=\"_blank\" href=https://colab.research.google.com/notebooks/data_table.ipynb>data table notebook</a>'\n",
              "            + ' to learn more about interactive tables.';\n",
              "          element.innerHTML = '';\n",
              "          dataTable['output_type'] = 'display_data';\n",
              "          await google.colab.output.renderOutput(dataTable, element);\n",
              "          const docLink = document.createElement('div');\n",
              "          docLink.innerHTML = docLinkHtml;\n",
              "          element.appendChild(docLink);\n",
              "        }\n",
              "      </script>\n",
              "    </div>\n",
              "  </div>\n",
              "  "
            ]
          },
          "metadata": {},
          "execution_count": 36
        }
      ]
    },
    {
      "cell_type": "markdown",
      "source": [
        "**Target**"
      ],
      "metadata": {
        "id": "zgwiOrRjiUFd"
      }
    },
    {
      "cell_type": "code",
      "source": [
        "from sklearn.preprocessing import LabelEncoder\n",
        "students['Reached_Level'] = LabelEncoder().fit_transform(students['Reached_Level'])\n"
      ],
      "metadata": {
        "id": "sE8YlxKLkhqf"
      },
      "execution_count": 37,
      "outputs": []
    },
    {
      "cell_type": "markdown",
      "source": [
        "**9) MODELO Y EVALUACIÓN**"
      ],
      "metadata": {
        "id": "8XfqJL1Bjt25"
      }
    },
    {
      "cell_type": "code",
      "source": [
        "from sklearn.linear_model import LogisticRegression\n",
        "from sklearn.model_selection import train_test_split\n",
        "X = students.drop(columns=['Reached_Level'])\n",
        "y = students['Reached_Level']\n",
        "\n",
        "X_train, X_test, y_train, y_test = train_test_split(X, y, test_size=0.3, random_state=10)\n"
      ],
      "metadata": {
        "id": "qHG5fghPkvsK"
      },
      "execution_count": 38,
      "outputs": []
    },
    {
      "cell_type": "code",
      "source": [
        "model = LogisticRegression(multi_class = \"multinomial\")\n",
        "model.fit(X_train, y_train)\n",
        "print('Accuracy on test set: ', model.score(X_test, y_test))"
      ],
      "metadata": {
        "colab": {
          "base_uri": "https://localhost:8080/"
        },
        "id": "Prr9js4-mL_B",
        "outputId": "a4283921-43a8-4e5b-ecf0-82c80a9965d8"
      },
      "execution_count": 39,
      "outputs": [
        {
          "output_type": "stream",
          "name": "stdout",
          "text": [
            "Accuracy on test set:  0.7569444444444444\n"
          ]
        }
      ]
    },
    {
      "cell_type": "markdown",
      "source": [
        "\n",
        "\n",
        "```\n",
        "Podría ser mejor pero de todas maneras está bastante cerca de 1 así que es un buen modelo.\n",
        "```\n",
        "\n"
      ],
      "metadata": {
        "id": "2OqHTCA9kNJk"
      }
    },
    {
      "cell_type": "code",
      "source": [
        "from sklearn.metrics import confusion_matrix\n",
        "y_pred = model.predict(X_test)\n",
        "\n",
        "confusion = confusion_matrix(y_test, y_pred)\n",
        "print(confusion)"
      ],
      "metadata": {
        "colab": {
          "base_uri": "https://localhost:8080/"
        },
        "id": "99hCH4MImglS",
        "outputId": "9b093fe6-228e-4a60-edf9-3bd3013ab1fe"
      },
      "execution_count": 40,
      "outputs": [
        {
          "output_type": "stream",
          "name": "stdout",
          "text": [
            "[[29  0 10]\n",
            " [ 0 31 11]\n",
            " [11  3 49]]\n"
          ]
        }
      ]
    },
    {
      "cell_type": "markdown",
      "source": [
        "\n",
        "```\n",
        "29, 31 y 49 son los predichos exitosamente\n",
        "```"
      ],
      "metadata": {
        "id": "HBLtWIlrlQZB"
      }
    },
    {
      "cell_type": "code",
      "source": [
        "from sklearn.metrics import precision_score\n",
        "print(precision_score(y_test, y_pred, average=None))\n"
      ],
      "metadata": {
        "colab": {
          "base_uri": "https://localhost:8080/"
        },
        "id": "prSmTmNMnaZd",
        "outputId": "1a864f89-18c5-41b0-efec-e5fba9b125c0"
      },
      "execution_count": 41,
      "outputs": [
        {
          "output_type": "stream",
          "name": "stdout",
          "text": [
            "[0.725      0.91176471 0.7       ]\n"
          ]
        }
      ]
    },
    {
      "cell_type": "markdown",
      "source": [
        "\n",
        "\n",
        "```\n",
        "Cercano a 1 así que buen modelo\n",
        "```\n",
        "\n"
      ],
      "metadata": {
        "id": "poePnFKHmHmi"
      }
    },
    {
      "cell_type": "code",
      "source": [
        "from sklearn.metrics import classification_report\n",
        "\n",
        "print(classification_report(y_test, y_pred))"
      ],
      "metadata": {
        "colab": {
          "base_uri": "https://localhost:8080/"
        },
        "id": "ltNukGxyn7Mn",
        "outputId": "b3921d73-870d-460a-a2cb-91967013a162"
      },
      "execution_count": 42,
      "outputs": [
        {
          "output_type": "stream",
          "name": "stdout",
          "text": [
            "              precision    recall  f1-score   support\n",
            "\n",
            "           0       0.72      0.74      0.73        39\n",
            "           1       0.91      0.74      0.82        42\n",
            "           2       0.70      0.78      0.74        63\n",
            "\n",
            "    accuracy                           0.76       144\n",
            "   macro avg       0.78      0.75      0.76       144\n",
            "weighted avg       0.77      0.76      0.76       144\n",
            "\n"
          ]
        }
      ]
    }
  ]
}